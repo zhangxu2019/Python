{
 "cells": [
  {
   "cell_type": "markdown",
   "metadata": {},
   "source": [
    "# 环境\n",
    "\n",
    "- windows和Ubuntu下Linux均可\n",
    "- 套件推荐使用 Anaconda3 + Pycharm，不使用Python解释器\n",
    "- Anaconda中有Anaconda prompt、IPython、Jupyter Notebook、Spyter\n",
    "    - Anaconda prompt：命令窗口，相当于windows的cmd。\n",
    "        - 常用命令：\n",
    "            - conda list（显示已安装套件）；\n",
    "            - conda install ipython（安装ipython套件）、conda update ipython（更新ipython套件）、conda uninstall ipython（卸载ipython套件）；\n",
    "            - pip的命令与conda完全相同；\n",
    "            - easy_install ipython（安装ipython套件）、easy_install -U ipython（更新ipython套件）、easy_install -m ipython（卸载ipython套件）；\n",
    "            - python 路径 运行存放在路径中的程序；\n",
    "            - conda create -n python27env python=2* anaconda（建立名字为python27env、版本是2.x的Python虚拟环境，存放在Anaconda安装目录下的envs文件夹中）；\n",
    "            - activate python27env（切换到虚拟环境python27env）、deactivate（关闭虚拟环境）\n",
    "            - conda remove -n python27env --all（删除虚拟环境python27env）\n",
    "            - conda create -n AnacondaTest --clone root（复制一个与现有环境完全相同的副本）\n",
    "                - 有时，为了测试一些功能套件或程序，担心会破坏现有的Python环境，可以建立一个与现有环境一样的虚拟环境作为副本\n",
    "    - IPython：也是一个命令窗口，可以实时运行输入的代码。\n",
    "        - 常用命令：\n",
    "            - 输入代码，enter键执行；\n",
    "            - %run 路径  运行存放在路径中的程序；\n",
    "    - Jupyter Notebook：好用，不解释。\n",
    "    - Spyter：轻量级的Python IDE，我们这里一般用Pycharm来代替，它们的功能是一样的，都是Python的集成开发环境\n",
    "    \n",
    "# 变量的命名规则\n",
    "\n",
    "- 变量命名可以包含数字，大小写字母，下划线或者更多，但是我们不推荐除了前三种内容之外的符号\n",
    "    - 数字不可以打头,\n",
    "    - 以下划线打头的具有特殊含义，不建议使用\n",
    "    - 大小写敏感\n",
    "- 推荐命名方法：\n",
    "    - 大驼峰：每个单词第一个字母均大写（MyFirstLove, IntOne）\n",
    "        - 用于给类命名\n",
    "    - 小驼峰：第一个字母小写，后面的字母大写（myFirstLove, intOne）\n",
    "        - 一般用于给普通变量或函数命名\n",
    "    - posix法：多个单词用下划线链接、单词全部小写（my_first_love, int_one）\n",
    "        - 一般用于给普通变量或函数命名（更常用）\n",
    "- 变量命名必须避开，不能跟关键字和保留字重复\n",
    "              "
   ]
  },
  {
   "cell_type": "code",
   "execution_count": 7,
   "metadata": {},
   "outputs": [
    {
     "name": "stdout",
     "output_type": "stream",
     "text": [
      "['False', 'None', 'True', 'and', 'as', 'assert', 'break', 'class', 'continue', 'def', 'del', 'elif', 'else', 'except', 'finally', 'for', 'from', 'global', 'if', 'import', 'in', 'is', 'lambda', 'nonlocal', 'not', 'or', 'pass', 'raise', 'return', 'try', 'while', 'with', 'yield']\n"
     ]
    }
   ],
   "source": [
    "#查看关键字的方法\n",
    "import keyword    #引入关键字模块\n",
    "print(keyword.kwlist)    #打印系统全部关键字"
   ]
  },
  {
   "cell_type": "code",
   "execution_count": 10,
   "metadata": {},
   "outputs": [
    {
     "name": "stdout",
     "output_type": "stream",
     "text": [
      "1 2 3\n"
     ]
    }
   ],
   "source": [
    "#多变量可以这样赋值\n",
    "a, b, c = 1, 2, 3\n",
    "print(a, b, c)"
   ]
  },
  {
   "cell_type": "markdown",
   "metadata": {},
   "source": [
    "# 变量类型\n",
    "\n",
    "- 标准数据类型一共六种\n",
    "    - 数字类型 Number\n",
    "    - 字符串类型 str\n",
    "    - 列表 list\n",
    "    - 元组 tuple\n",
    "    - 字典 Dictionary\n",
    "    - 集合 set\n",
    "    \n",
    "## 数字类型 Number\n",
    "\n",
    "- 数字类型没有大小的限制\n",
    "\n",
    "### 整数\n",
    "\n",
    "- 整数的进制\n",
    "    - 二进制\n",
    "        - 0b开头\n",
    "    - 八进制\n",
    "        - 0o开头\n",
    "    - 十六进制\n",
    "        - 0x开头\n",
    "    - 十进制\n",
    "    \n",
    "### 浮点数\n",
    "\n",
    "- 就是小数\n",
    "- 浮点数可以有条件省略（.5表示0.5）\n",
    "- 科学计数法\n",
    "    - e/E后面的整数表示10的指数\n",
    "        - 108.08 == 1.0808e2\n",
    "        - 0.8182 == 8.182e-1\n",
    "\n",
    "### 复数\n",
    "\n",
    "- 实部和虚部（i/J）构成\n",
    "    - 5+3j\n",
    "    - 3j\n",
    "\n",
    "### 布尔值\n",
    "\n",
    "- 真True和假False\n",
    "- 布尔值可以和数字直接操作\n",
    "\n",
    "## 字符串类型\n",
    "\n",
    "- 表示一串文字信息\n",
    "- 如何表示\n",
    "    - 单引号\n",
    "    - 双引号\n",
    "    - 三引号（三单引号或三双引号）\n",
    "    - 单双引号交错使用\n",
    "- 字符串是不可变类型，无法直接修改字符串的某一位字符，可哈希"
   ]
  },
  {
   "cell_type": "code",
   "execution_count": 218,
   "metadata": {},
   "outputs": [
    {
     "name": "stdout",
     "output_type": "stream",
     "text": [
      "hello zhangxu\n",
      "hello zhnagxu\n",
      "hello zhangxu\n",
      "hello zhangxu\n"
     ]
    }
   ],
   "source": [
    "a = \"hello zhangxu\"\n",
    "b = 'hello zhnagxu'\n",
    "c = '''hello zhangxu'''\n",
    "d = \"\"\"hello zhangxu\"\"\"\n",
    "print(a, b, c, d, sep=\"\\n\")"
   ]
  },
  {
   "cell_type": "code",
   "execution_count": 19,
   "metadata": {},
   "outputs": [
    {
     "name": "stdout",
     "output_type": "stream",
     "text": [
      "<a style=\"color:red\"> 呵呵哒</a>\n"
     ]
    }
   ],
   "source": [
    "#要表示含有引号的字符串信息，就需要单双引号交错使用，比如字符串信息为<a style=\\\"color:red\\\"> 呵呵哒</a>\n",
    "html = '<a style=\\\"color:red\\\"> 呵呵哒</a>'\n",
    "print(html)"
   ]
  },
  {
   "cell_type": "code",
   "execution_count": 1,
   "metadata": {},
   "outputs": [
    {
     "name": "stdout",
     "output_type": "stream",
     "text": [
      "\n",
      "hello, zhangshuai\n",
      "you are so handsome\n",
      "\n"
     ]
    }
   ],
   "source": [
    "#三引号可以表示多行的字符串信息，也可以用来作注释\n",
    "a = '''\n",
    "hello, zhangshuai\n",
    "you are so handsome\n",
    "'''\n",
    "print(a)"
   ]
  },
  {
   "cell_type": "markdown",
   "metadata": {},
   "source": [
    "### 转义字符\n",
    "\n",
    "- 使用特定格式，表示特定意义和功能的字符就是转义字符\n",
    "- 用一个特殊的方法表示出一系列不方便写出的内容，比如回车键，换行键，退格键\n",
    "- 不同系统对换行操作有不同的表示\n",
    "    - windows： \\n\n",
    "    - Linux: \\r\\n\n",
    "\n",
    "## 列表类型 list\n",
    "\n",
    "- 列表就是一系列数据的有序组合，和C中的数组array相似，所不同的是：\n",
    "    - list的元素数据类型可以不同\n",
    "    - list的元素设定初始值后，还可以通过append()和insert()的方式去添加\n",
    "    - list的下标可以是负数，下标-1表示倒数第一个元素，下标-2表示倒数第二个元素 ...\n",
    "- 列表格式：\n",
    "    - 变量 = [值,值,值...]\n",
    "    \n",
    "- 注意：列表的标志符号是中括号[]\n",
    "\n",
    "- 常见列表操作\n",
    "    - list1*n （列表重复n次）\n",
    "    - len(list1)\n",
    "    - min(list1)\n",
    "    - max(list1)\n",
    "    - list1.index(x)（取首个值为x的元素的下标）\n",
    "    - list1.count(x)（列表中元素x出现的次数）\n",
    "    - list1.append(x)（将x作为元素添加到列表最后）\n",
    "    - list1.insert(n, x)（在下标n的位置插入元素x）\n",
    "    - list1.extend(list2)（将list2的元素按顺序添加到list1的后面）\n",
    "    - list1.pop()（取出列表最后一个元素并删除）\n",
    "    - list1.remove(x)（删除首次出现的x元素）\n",
    "    - list1.reverse()（反转列表）\n",
    "    - list1.sort()（列表从小到大排序）\n",
    "- 注意append(x)和insert(n, x)的参数x是元素，如果传的是list会当成一个list类型的元素处理，而extend(list2)的参数是list，只能传list"
   ]
  },
  {
   "cell_type": "code",
   "execution_count": 91,
   "metadata": {},
   "outputs": [
    {
     "name": "stdout",
     "output_type": "stream",
     "text": [
      "LOL CS 荒野行动 王者荣耀 英雄联盟 张三 李四 王五 ['张三', '李四', '王五'] 二麻子 \n",
      "二麻子\n",
      "出列的元素是：['张三', '李四', '王五']\n",
      "出列的元素是：王五\n"
     ]
    }
   ],
   "source": [
    "list1 = ['LOL','CS','王者荣耀','英雄联盟']\n",
    "list2 = ['张三', '李四', '王五']\n",
    "\n",
    "list1.insert(2, '荒野行动')    #在下标2的位置插入‘荒野行动’\n",
    "list1.extend(list2)            #在列表后面添加list2中的元素\n",
    "list1.append(list2)            #在列表最后添加被当做元素处理的列表list2\n",
    "list1.append('二麻子')         #在列表最后添加元素‘二麻子’\n",
    "\n",
    "for i in range(0, len(list1)):\n",
    "    print(list1[i], end=' ')\n",
    "\n",
    "print()\n",
    "\n",
    "print(list1.pop())                               #直接打印出列的元素‘二麻子’\n",
    "print(\"出列的元素是：{}\".format(list1.pop()))    #打印有提示信息的出列元素，不知道元素是什么类型\n",
    "print('出列的元素是：%s' % list1.pop())          #打印有提示信息的出列元素，知道元素的类型是字符串，用占位符%s\n",
    "\n",
    "#经过测试发现，占位符%s不仅可以打印字符，还可以打印整型、浮点型、甚至直接打印一个列表，似乎都可以\n",
    "\n"
   ]
  },
  {
   "cell_type": "markdown",
   "metadata": {},
   "source": [
    "## 元组类型 tuple\n",
    "\n",
    "- 元组也是一系列数据的有序组合，但是元祖的元素个数和元素值不能修改，元组可以看作是不能修改的列表\n",
    "- 元组格式\n",
    "    - 变量 = (值，值，值.....)\n",
    "    - 变量 = 值，值，值.....\n",
    "- 注意：元组的标志符号是逗号,不是小括号() ，小括号只是起补充作用\n",
    "- 列表的功能比元组强，那为什么还要用元组？\n",
    "    - 元组的执行速度比列表快（结构比列表简单）\n",
    "    - 存于元组的数据较为安全（因为不能修改）\n",
    "- 元组和列表可以相互转换\n",
    "    - list(tuple)将元组转换成列表\n",
    "    - tuple(list)将列表转换成元组\n",
    "    \n",
    "## 字典类型 Dict\n",
    "\n",
    "- 字典是由“键:值”成对存储的组合，无序组合\n",
    "- 字典格式：\n",
    "    - 变量 = {键:值,键:值....}\n",
    "- 注意：字典的标志符号是大括号{}\n",
    "- 字典的值没有限制，但是键有限制\n",
    "    - 一个键只能出现一次。如果同一个键出现多次，以最后一次为准。\n",
    "    - 键必须不可变，所以可以用数字、字符串或元组充当，而用列表就不行（列表可变）。\n",
    "- 常见的字典操作\n",
    "    - dict1[k]查询键k对应的值\n",
    "    - del dict1[k]删除指定键k和它的值\n",
    "    - del dict1删除整个字典（字典不能再被访问）\n",
    "    - dict1.clear()清空整个字典（字典可以被访问）\n",
    "    - len(dict1)\n",
    "    - dict1.keys()获取由字典中所有键组成的组合，数据类型是dict_keys\n",
    "    - dict1.values()获取由字典中所有值组成的组合，数据类型是dict_values\n",
    "    - dict1.items()获取由字典中所有“键:值”组成的组合，数据类型是dict_items\n",
    "    - list(dict1.keys())、list(dict1.values())、list(dict1.items())可以把类型转化为list类型，但是这里的Jupyter会报错，用别的编译环境就不会\n",
    "    - k in dict1如果键k在字典中，返回True，如果不在返回False，在所有代码之后会直接打印，在前面或中间需要用print打印\n",
    "    - dict1.get(k)获取键k对应的值\n",
    "    - dict1.setdefault(k)获取键k对应的值\n",
    "    - dict1.setdefault(k, v)如果键k不存在，则添加一对键:值k:v"
   ]
  },
  {
   "cell_type": "code",
   "execution_count": 1,
   "metadata": {},
   "outputs": [
    {
     "name": "stdout",
     "output_type": "stream",
     "text": [
      "dict_keys(['姓名', '性别', '年龄', '政治面貌', '联系方式', 'QQ'])\n",
      "dict_values(['张帅', '男', 25, '中共党员', '18865566537', '11511511'])\n",
      "dict_items([('姓名', '张帅'), ('性别', '男'), ('年龄', 25), ('政治面貌', '中共党员'), ('联系方式', '18865566537'), ('QQ', '11511511')])\n",
      "True\n",
      "姓名 性别 年龄 政治面貌 联系方式 QQ \n",
      "张帅 男 25 中共党员 18865566537 11511511 \n",
      "('姓名', '张帅') ('性别', '男') ('年龄', 25) ('政治面貌', '中共党员') ('联系方式', '18865566537') ('QQ', '11511511') \n",
      "【姓名：张帅】\n",
      "【性别：男】\n",
      "【年龄：25】\n",
      "【政治面貌：中共党员】\n",
      "【联系方式：18865566537】\n",
      "【QQ：11511511】\n"
     ]
    },
    {
     "data": {
      "text/plain": [
       "True"
      ]
     },
     "execution_count": 1,
     "metadata": {},
     "output_type": "execute_result"
    }
   ],
   "source": [
    "dict1 = {'姓名':'张帅', '性别':'男', '年龄':25, '政治面貌':'中共党员', '联系方式':'18865566537'}\n",
    "\n",
    "dict1.setdefault('QQ', '11511511')       #QQ不存在，则添加'QQ': '11511511'\n",
    "\n",
    "print(dict1.keys())\n",
    "print(dict1.values())\n",
    "print(dict1.items())\n",
    "\n",
    "print('姓名' in dict1)\n",
    "\n",
    "#遍历字典中的键\n",
    "for key in dict1.keys():\n",
    "    print (key, end=' ')\n",
    "\n",
    "print()      \n",
    "\n",
    "#遍历字典中的值\n",
    "for value in dict1.values():\n",
    "    print (value, end=' ')\n",
    "\n",
    "print()      \n",
    "\n",
    "#遍历字典中的键值对\n",
    "for item in dict1.items():\n",
    "    print (item, end=' ')\n",
    "\n",
    "print()   \n",
    "\n",
    "#遍历字典中的键和值\n",
    "for key,value in dict1.items():\n",
    "    print (\"【%s：%s】\" % (key, value))\n",
    "    \n",
    "'姓名' in dict1"
   ]
  },
  {
   "cell_type": "markdown",
   "metadata": {},
   "source": [
    "## 集合类型 Set\n",
    "\n",
    "- 集合就是一组数据的无序组合。集合中的数据永远是唯一的，不会重复\n",
    "- 集合的格式：\n",
    "    - 变量 = {值,值,值...}\n",
    "    - set('值值值')\n",
    "- 注意：\n",
    "    - 集合没有特定的标识符号，和字典一样使用{}。\n",
    "    - 创建一个空集合必须用set() 而不是{}，因为{}是用来创建一个空字典。\n",
    "- 常见集合操作\n",
    "    - s.add(x)将元素x添加到集合s中\n",
    "    - s.update(x)更新集合s，x可以是字符串、列表、元组、字典等，可以有多个x，但是x不能是数字\n",
    "    - s.remove(x)将元素x从集合s中移除，如果元素不存在，则会发生错误\n",
    "    - s.discard(x)将元素x从集合s中移除，如果元素不存在，不会发生错误\n",
    "    - s.pop()随机打印并删除集合s中的一个元素，真的是随机\n",
    "    - len(s)\n",
    "    - s.clear\n",
    "    - x in s元素s是否在集合x中,存在返回True，不存在返回False，在所有代码之后会直接打印，在前面或中间需要用print打印\n",
    "\n",
    "- 集合的特征\n",
    "    - 集合无序，无法进行索引和分片操作\n",
    "    - 集合是内部元素绝对唯一的数据，常常用于去掉重复数据\n",
    "    - 集合的数据，str，int，float,bool,tuple，只能存可哈希的数据\n",
    "    - 所谓可哈希和不可哈希：\n",
    "        - 可变类型的数据不可哈希：列表，字典\n",
    "        - 不可变类型的数据可哈希：数值、字母、字符串、数字、元组\n",
    "    - 怎么判断：\n",
    "        - 改值，id不变，为可变类型，不可哈希；改值，id改变，为不可变类型，可哈希。"
   ]
  },
  {
   "cell_type": "code",
   "execution_count": 217,
   "metadata": {},
   "outputs": [
    {
     "name": "stdout",
     "output_type": "stream",
     "text": [
      "22\n",
      "True\n",
      "True\n",
      "True\n"
     ]
    },
    {
     "data": {
      "text/plain": [
       "False"
      ]
     },
     "execution_count": 217,
     "metadata": {},
     "output_type": "execute_result"
    }
   ],
   "source": [
    "s1 = {'张三', '李四', '王五', 111, 22.2}        #直接建立集合，元素可以是字符串和数字\n",
    "s2 = set('赵钱孙李123456')                      #使用set()函数建立集合，参数只能用引号括起来，值与值之间没有间隔，每个字符就是一个元素\n",
    "s1.add(888)                                     #add()添加元素没有限制\n",
    "s1.update('789', '甲乙丙', s2)                  #update()添加元素不能是数字，参数只能用引号括起来，值与值之间没有间隔，每个字符就是一个元素\n",
    "\n",
    "#现在s1里面应该是\n",
    "#{'张三', '李四', '王五', 111, 22.2, 888, '7', '8', '9', '甲', '乙', '丙', '赵', '钱', '孙', '李', '1', '2', '3', '4', '5', '6'}\n",
    "\n",
    "print(len(s1))\n",
    "\n",
    "print('张三' in s1)\n",
    "print(888 in s1)\n",
    "print('甲' in s1)\n",
    "'甲乙丙' in s1\n"
   ]
  },
  {
   "cell_type": "markdown",
   "metadata": {},
   "source": [
    "# 强制类型转换\n",
    "\n",
    "- int（） 强制将数据转化为整型\n",
    "    - 纯数字字符串转化为整型时，类型改变，值不变\n",
    "    - 只有纯整数字符串才可以转换，其他均不可以\n",
    "    - 浮点型可以转化为整型，小数点后面的部分丢失\n",
    "- float() 强制将数据转化为浮点型\n",
    "    - 整数字符串和浮点数字符串均可以转化为浮点型\n",
    "    - 转化过程中类型改变，值不变\n",
    "    - 整型也可以用于浮点型转换\n",
    "- str() 字符串类型转换\n",
    "    - 所有数据类型都可以转换为字符串，转换规则就是在原有数据基础上加了引号变成了字符串的格式。\n",
    "    - 例如：[1，2，3] = \"[1，2，3]\"\n",
    "- list() 将其他数据转换为列表类型\n",
    "    - 能够进行list转换的数据类型只有4种：\n",
    "        - str 字符串  \n",
    "        - tuple 元组\n",
    "        - dict 字典\n",
    "        - set 集合    \n",
    "- tuple() 将其他数据类型转换为元组类型\n",
    "    - 能够进行tuple转换的数据类型只有4种：\n",
    "        - str 字符串  \n",
    "        - list 列表\n",
    "        - dict 字典\n",
    "        - set 集合\n",
    "- dict() 将其他数据转化为字典类型\n",
    "    - 字典类型转换对于转换数据有严格的要求，可以转化的类型有3种：\n",
    "        - list  列表\n",
    "        - tuple 元组\n",
    "        - set  集合\n",
    "    - 以上所有类型的每个数据必须由元组组成，并且每个元组必须有2个值\n",
    "\n",
    "        - 例子：\n",
    "            - {('aa','AA'),('bb','BB'),('cc','CC')}\n",
    "            -  [('aa','AA'),('bb','BB'),('cc','CC')]\n",
    "            -  (('aa','AA'),('bb','BB'),('cc','CC'))\n",
    "- set() 集合类型转换\n",
    "    - 能够进行set转换的数据类型只有4种\n",
    "        - str 字符串      \n",
    "        - list 列表\n",
    "        - tuple 元组\n",
    "        - dict 字典\n"
   ]
  },
  {
   "cell_type": "markdown",
   "metadata": {},
   "source": [
    "# 关于列表、元组、字典和集合的总结\n",
    "\n",
    "- 列表，有序，标志是中括号[]，元素可以修改\n",
    "- 元组，有序，标志是中括号半角逗号（小括号可有可无），元素不可以修改\n",
    "- 字典，无序，标志是大括号，元素是键值对，键:值一一对应，空字典由{}创建\n",
    "- 集合，无序，没有特定的标志（和字典一样使用大括号），元素都是唯一的，不会重复，空集合由set()创建"
   ]
  }
 ],
 "metadata": {
  "kernelspec": {
   "display_name": "Python 3",
   "language": "python",
   "name": "python3"
  },
  "language_info": {
   "codemirror_mode": {
    "name": "ipython",
    "version": 3
   },
   "file_extension": ".py",
   "mimetype": "text/x-python",
   "name": "python",
   "nbconvert_exporter": "python",
   "pygments_lexer": "ipython3",
   "version": "3.6.5"
  }
 },
 "nbformat": 4,
 "nbformat_minor": 2
}
