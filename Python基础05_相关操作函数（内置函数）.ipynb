{
 "cells": [
  {
   "cell_type": "markdown",
   "metadata": {},
   "source": [
    "# 字符串相关操作\n",
    "\n",
    "    + 字符串连接符号\n",
    "    \n",
    "    * 字符（串）复制操作（'-'*20）\n",
    "    \n",
    "     str[i]  获取第i个位置的字符\n",
    "    \n",
    "    [:] 取片操作 \n",
    "        [:]                 获取所有字符\n",
    "        [开始位置:]         从开始位置获取到字符串的结尾\n",
    "        [：结束位置]        从字符串的开头截取到字符串结束位置之前（不包含结束位置）\n",
    "        [开始位置:结束位置] 从字符串的开始位置截取到结束位置之前（不包含结束位置）\n",
    "        \n",
    "    r'字符串' 防止字符串中的转义字符串实现功能，把转义字符当作普通字符使用，例如，print(r'\\n')打印的是\\n不是换行\n"
   ]
  },
  {
   "cell_type": "code",
   "execution_count": 19,
   "metadata": {},
   "outputs": [
    {
     "name": "stdout",
     "output_type": "stream",
     "text": [
      "PythonMaster\n",
      "PythonMasterPythonMasterPythonMaster\n",
      "P\n",
      "PythonMaster\n",
      "PythonMaster\n",
      "Pyt\n",
      "Python\n",
      "\\n\n"
     ]
    }
   ],
   "source": [
    "str = 'Python'\n",
    "\n",
    "str += 'Master'\n",
    "print(str)\n",
    "\n",
    "print(str*3)\n",
    "\n",
    "print(str[0])\n",
    "\n",
    "print(str[:])\n",
    "\n",
    "print(str[0:])\n",
    "\n",
    "print(str[:3])\n",
    "\n",
    "print(str[0:6])\n",
    "\n",
    "print(r'\\n')"
   ]
  },
  {
   "cell_type": "markdown",
   "metadata": {},
   "source": [
    "# 字符串相关函数 \n",
    "\n",
    "- capitalize() 将字符串的首字母大写\n",
    "- upper() 将所有英文字符变为大写\n",
    "- lower() 将所有英文字符变为小写\n",
    "- swapcase() 大小写互相转换\n",
    "- title() 每个单词的首字母大写\n",
    "- count() 计算一个字符串中出现指定字符串的次数\n",
    "- find() 查找字符串中是否具有指定的字符串，查找不到返回-1，返回第一次出现的位置\n",
    "- index() 查找字符串中是否具有指定的字符串，查找不到直接报错，返回第一次出现的位置\n",
    "- startswith() 检测字符串是否以指定的字符串开头，返回值：布尔值\n",
    "- endswith() 检测字符串是否以指定的字符串结尾，返回值：布尔值\n",
    "- isupper() 检测字符串中字母是否都是大写字母，返回值：布尔值\n",
    "- islower()检测字符串中的字母是否都是小写字母，返回值：布尔值\n",
    "- isalnum() 检测一个字符串是否都是数字或者是否都是字母，返回值：布尔值\n",
    "- isalpha() 检测字符串是否都是有字母类型构成，汉字作为字母处理，返回值：布尔值\n",
    "- isdigit() 检测字符串是否由纯数字字符组成，返回值：布尔值\n",
    "- isspace() 检测字符串是否完全由空白字符组成（回车，换行，缩进，空格都可以当作空白字符），返回值：布尔值\n",
    "- istitle() 检测字符串是否每个单词的首字母大写，返回值：布尔值\n",
    "- isnumeric() 检测字符串是否都是数字，返回值：布尔值\n",
    "- isdecimal(）检测字符串是否完全由十进制字符组成，返回值：布尔值\n",
    "- split() 使用指定的字符将字符串拆解成多个字符串，返回值：列表类型\n",
    "- splitlines() 使用\\n，\\r或者\\r\\n切割字符串，返回值：列表类型\n",
    "- join() 使用指定的字符串将序列中的内容组成新的字符串\n",
    "- zfill() 0填充操作 格式： str.zfill(长度) 返回值：填充0的字符串，填充结果原有内容靠右对齐，前面位数不足使用0来补充，常用于数字类型字符串。\n",
    "- center() 将字符串进行居中操作，并且在空白处进行填充\n",
    "- ljust()将字符串进行左对齐操作，并且在空白处进行填充\n",
    "- rjust() 将字符串进行右对齐操作，并且在空白处进行填充\n",
    "- lstrip() 去掉字符串左侧的空白\n",
    "- rstrip()去掉字符串右侧的空白\n",
    "- strip()去掉字符串两侧的空白\n",
    "- replace() 字符串替换操作，格式： str.replace(被替换的字符串,替换字符串)\n",
    "- maketrans() 制作一个字符串映射表，为了给translate函数使用，格式:str.maketrans（'被替换的字符串','替换字符串'）\n"
   ]
  },
  {
   "cell_type": "markdown",
   "metadata": {},
   "source": [
    "# format格式字符串\n",
    "\n",
    "## 通过位置"
   ]
  },
  {
   "cell_type": "code",
   "execution_count": 34,
   "metadata": {},
   "outputs": [
    {
     "data": {
      "text/plain": [
       "'zhangsan,18'"
      ]
     },
     "execution_count": 34,
     "metadata": {},
     "output_type": "execute_result"
    }
   ],
   "source": [
    "'{0},{1}'.format('zhangsan',18)"
   ]
  },
  {
   "cell_type": "code",
   "execution_count": 35,
   "metadata": {},
   "outputs": [
    {
     "data": {
      "text/plain": [
       "'zhangsan,18'"
      ]
     },
     "execution_count": 35,
     "metadata": {},
     "output_type": "execute_result"
    }
   ],
   "source": [
    "'{},{}'.format('zhangsan',18)"
   ]
  },
  {
   "cell_type": "code",
   "execution_count": 36,
   "metadata": {},
   "outputs": [
    {
     "data": {
      "text/plain": [
       "'18,zhangsan,18'"
      ]
     },
     "execution_count": 36,
     "metadata": {},
     "output_type": "execute_result"
    }
   ],
   "source": [
    "'{1},{0},{1}'.format('zhangsan',18)"
   ]
  },
  {
   "cell_type": "markdown",
   "metadata": {},
   "source": [
    "## 通过关键字参数 "
   ]
  },
  {
   "cell_type": "code",
   "execution_count": 38,
   "metadata": {},
   "outputs": [
    {
     "data": {
      "text/plain": [
       "'zhangsan,18'"
      ]
     },
     "execution_count": 38,
     "metadata": {},
     "output_type": "execute_result"
    }
   ],
   "source": [
    "'{name},{age}'.format(age=18,name='zhangsan')"
   ]
  },
  {
   "cell_type": "markdown",
   "metadata": {},
   "source": [
    "## 通过对象属性"
   ]
  },
  {
   "cell_type": "code",
   "execution_count": null,
   "metadata": {},
   "outputs": [],
   "source": []
  },
  {
   "cell_type": "markdown",
   "metadata": {},
   "source": [
    "## 通过下标"
   ]
  },
  {
   "cell_type": "code",
   "execution_count": 56,
   "metadata": {},
   "outputs": [
    {
     "data": {
      "text/plain": [
       "'zhangsan,18,清华大学'"
      ]
     },
     "execution_count": 56,
     "metadata": {},
     "output_type": "execute_result"
    }
   ],
   "source": [
    "stu=['zhangsan',18, '清华大学']\n",
    "\n",
    "'{0[0]},{0[1]},{0[2]}'.format(stu)"
   ]
  },
  {
   "cell_type": "markdown",
   "metadata": {},
   "source": [
    "## 填充与格式化\n",
    "\n",
    "    :[填充字符][对齐方式][宽度]"
   ]
  },
  {
   "cell_type": "code",
   "execution_count": 64,
   "metadata": {},
   "outputs": [
    {
     "data": {
      "text/plain": [
       "'   1818   '"
      ]
     },
     "execution_count": 64,
     "metadata": {},
     "output_type": "execute_result"
    }
   ],
   "source": [
    "# 居中\n",
    "'{:^10}'.format('1818') "
   ]
  },
  {
   "cell_type": "code",
   "execution_count": 76,
   "metadata": {},
   "outputs": [
    {
     "data": {
      "text/plain": [
       "'1818000000'"
      ]
     },
     "execution_count": 76,
     "metadata": {},
     "output_type": "execute_result"
    }
   ],
   "source": [
    "# 左对齐\n",
    "'{:0<10}'.format('1818') "
   ]
  },
  {
   "cell_type": "code",
   "execution_count": 75,
   "metadata": {},
   "outputs": [
    {
     "data": {
      "text/plain": [
       "'******1818'"
      ]
     },
     "execution_count": 75,
     "metadata": {},
     "output_type": "execute_result"
    }
   ],
   "source": [
    "# 右对齐\n",
    "'{:*>10}'.format('1818') "
   ]
  },
  {
   "cell_type": "markdown",
   "metadata": {},
   "source": [
    "## 精度与进制\n",
    "\n",
    "    :[精度][进制]"
   ]
  },
  {
   "cell_type": "code",
   "execution_count": 96,
   "metadata": {},
   "outputs": [
    {
     "data": {
      "text/plain": [
       "'512.00'"
      ]
     },
     "execution_count": 96,
     "metadata": {},
     "output_type": "execute_result"
    }
   ],
   "source": [
    "'{:.2f}'.format(512.00000)"
   ]
  },
  {
   "cell_type": "code",
   "execution_count": 94,
   "metadata": {},
   "outputs": [
    {
     "data": {
      "text/plain": [
       "'512'"
      ]
     },
     "execution_count": 94,
     "metadata": {},
     "output_type": "execute_result"
    }
   ],
   "source": [
    "'{:d}'.format(512)"
   ]
  },
  {
   "cell_type": "code",
   "execution_count": 92,
   "metadata": {},
   "outputs": [
    {
     "data": {
      "text/plain": [
       "'1000000000'"
      ]
     },
     "execution_count": 92,
     "metadata": {},
     "output_type": "execute_result"
    }
   ],
   "source": [
    "'{:b}'.format(512)"
   ]
  },
  {
   "cell_type": "code",
   "execution_count": 91,
   "metadata": {},
   "outputs": [
    {
     "data": {
      "text/plain": [
       "'1000'"
      ]
     },
     "execution_count": 91,
     "metadata": {},
     "output_type": "execute_result"
    }
   ],
   "source": [
    "'{:o}'.format(512)"
   ]
  },
  {
   "cell_type": "code",
   "execution_count": 97,
   "metadata": {},
   "outputs": [
    {
     "data": {
      "text/plain": [
       "'200'"
      ]
     },
     "execution_count": 97,
     "metadata": {},
     "output_type": "execute_result"
    }
   ],
   "source": [
    "'{:x}'.format(512)"
   ]
  },
  {
   "cell_type": "markdown",
   "metadata": {},
   "source": [
    "## 千分位格式化"
   ]
  },
  {
   "cell_type": "code",
   "execution_count": 101,
   "metadata": {},
   "outputs": [
    {
     "data": {
      "text/plain": [
       "'1,234,567,899'"
      ]
     },
     "execution_count": 101,
     "metadata": {},
     "output_type": "execute_result"
    }
   ],
   "source": [
    "'{:,}'.format(1234567899)"
   ]
  },
  {
   "cell_type": "markdown",
   "metadata": {},
   "source": [
    "# 列表常用操作\n",
    "\n",
    "## 分片操作\n",
    "\n",
    "- 格式\n",
    "\n",
    "        列表[开始索引:结束索引:跳步值]\n",
    "        \n",
    "- 分片操作其实质是生成一个新的list"
   ]
  },
  {
   "cell_type": "code",
   "execution_count": 111,
   "metadata": {},
   "outputs": [
    {
     "name": "stdout",
     "output_type": "stream",
     "text": [
      "[1, 5, 6, 7, 9, 3]\n",
      "[5, 7, 3]\n",
      "[3, 9, 7, 6, 5, 1]\n",
      "77463880\n",
      "79946376\n",
      "79828296\n",
      "79829768\n"
     ]
    }
   ],
   "source": [
    "list = [1, 5, 6, 7, 9, 3]\n",
    "\n",
    "list1 = list[:]\n",
    "list2 = list[1:6:2]\n",
    "list3 = list[-1:-7:-1]\n",
    "print(list1)\n",
    "print(list2)\n",
    "print(list3)\n",
    "print(id(list))\n",
    "print(id(list1))\n",
    "print(id(list2))\n",
    "print(id(list3))"
   ]
  },
  {
   "cell_type": "markdown",
   "metadata": {},
   "source": [
    "## 列表相加\n",
    "\n",
    "- 格式：列表 = 列表1 + 列表2\n",
    "- 注意: + 两边必须都是列表才可以运算"
   ]
  },
  {
   "cell_type": "code",
   "execution_count": 117,
   "metadata": {},
   "outputs": [
    {
     "name": "stdout",
     "output_type": "stream",
     "text": [
      "[1, 2, 3, 4, 5, 'a', 'b', 'c', 'd', 'e']\n"
     ]
    }
   ],
   "source": [
    "list1 = [1, 2, 3, 4, 5]\n",
    "list2 = ['a', 'b', 'c', 'd', 'e']\n",
    "\n",
    "list = list1 + list2\n",
    "print(list)"
   ]
  },
  {
   "cell_type": "markdown",
   "metadata": {},
   "source": [
    "## 列表相乘\n",
    "\n",
    "- 格式：列表 = 列表1 * 整数\n",
    "- 注意: 数字必须为整数"
   ]
  },
  {
   "cell_type": "code",
   "execution_count": 119,
   "metadata": {},
   "outputs": [
    {
     "name": "stdout",
     "output_type": "stream",
     "text": [
      "['a', 'b', 'c', 'a', 'b', 'c', 'a', 'b', 'c']\n"
     ]
    }
   ],
   "source": [
    "list1 = ['a', 'b', 'c']\n",
    "list2 = list1 * 3\n",
    "print(list2)"
   ]
  },
  {
   "cell_type": "markdown",
   "metadata": {},
   "source": [
    "## 列表的遍历\n",
    "\n",
    "- for ... in 遍历\n",
    "- while 遍历"
   ]
  },
  {
   "cell_type": "code",
   "execution_count": 123,
   "metadata": {},
   "outputs": [
    {
     "name": "stdout",
     "output_type": "stream",
     "text": [
      "a b c d e "
     ]
    }
   ],
   "source": [
    "# for ... in 遍历list\n",
    "a = ['a', 'b', 'c', 'd', 'e']\n",
    "for i in a:\n",
    "    print(i, end=\" \")"
   ]
  },
  {
   "cell_type": "code",
   "execution_count": 128,
   "metadata": {},
   "outputs": [
    {
     "name": "stdout",
     "output_type": "stream",
     "text": [
      "a b c d e "
     ]
    }
   ],
   "source": [
    "# while 遍历list，一般不用\n",
    "a = ['a', 'b', 'c', 'd', 'e']\n",
    "i = 0\n",
    "while i < len(a):\n",
    "    print(a[i], end=\" \")\n",
    "    i += 1"
   ]
  },
  {
   "cell_type": "markdown",
   "metadata": {},
   "source": [
    "## 双层列表的循环\n",
    "\n",
    "- 双层列表，又称嵌套列表\n",
    "- 列表 = [[值1,值2],[值1,值2]，[值1,值2]...]\n",
    "- 格式：\n",
    "\n",
    "        for 变量1,变量2 in 列表：\n",
    "            使用变量1和变量2"
   ]
  },
  {
   "cell_type": "code",
   "execution_count": 143,
   "metadata": {},
   "outputs": [
    {
     "name": "stdout",
     "output_type": "stream",
     "text": [
      "语文成绩：95分\n",
      "数学成绩：100分\n",
      "英语成绩：65分\n"
     ]
    }
   ],
   "source": [
    "a = [[\"语文\", 95], [\"数学\", 100], [\"英语\", 65] ]\n",
    "\n",
    "for k,v in a:\n",
    "    print('{0}成绩：{1}分'.format(k, v))"
   ]
  },
  {
   "cell_type": "code",
   "execution_count": 142,
   "metadata": {},
   "outputs": [
    {
     "name": "stdout",
     "output_type": "stream",
     "text": [
      "语文 -- 95 -- A\n",
      "数学 -- 100 -- A\n",
      "英语 -- 65 -- C\n"
     ]
    }
   ],
   "source": [
    "a = [[\"语文\", 95, 'A'], [\"数学\", 100, 'A'], [\"英语\", 65, 'C'] ]\n",
    "\n",
    "for k,v,w in a:\n",
    "    print(k, \"--\", v, \"--\", w)"
   ]
  },
  {
   "cell_type": "markdown",
   "metadata": {},
   "source": [
    "# 列表内涵: list content\n",
    "\n",
    "- 通过简单方法创建列表\n",
    "\n",
    "## 简单的列表内涵\n",
    "\n",
    "- 格式：[[变量 for [变量 in 列表]\n",
    "- 作用：遍历列表中的数据并且组成新的列表，如果需要改变原有数据，在最开始i处修改即可\n",
    "- 结果：新的列表\n",
    "\n",
    "## 带有判断的列表内涵\n",
    "\n",
    "- 格式 [变量 for 变量 in 列表 判断条件]   \n",
    "- 作用：遍历列表中的数据，根据判断条件取出符合条件的数据组成新的列表\n",
    "- 结果:新的列表\n",
    "\n",
    "## 多循环（带判断）的列表内涵\n",
    "\n",
    "- 格式：[[变量1+变量2 for 变量1 in 列表1 for 变量2 in 列表2]\n",
    "- 作用：将列表1中的每个数据和列表2的每个数据进行相加操作，此处可以使用别的操作（变量1+变量2 仅为参考）\n",
    "- 结果：新的列表\n",
    "\n",
    "\n",
    "- 格式：[[变量1+变量2 for 变量1 in 列表1 for 变量2 in 列表2 判断条件]\n",
    "- 作用：将列表1中和列表2中每个数据进行操作，但是必须在符合判断条件的前提下进行。\n",
    "- 结果：新的列表"
   ]
  },
  {
   "cell_type": "code",
   "execution_count": 4,
   "metadata": {},
   "outputs": [
    {
     "name": "stdout",
     "output_type": "stream",
     "text": [
      "['Ax', 'Bx', 'Cx', 'Dx', 'Ex']\n"
     ]
    }
   ],
   "source": [
    "# 简单的列表内涵，通过list1建立list2\n",
    "list1 = ['A', 'B', 'C', 'D', 'E']\n",
    "list2 = [i + 'x' for i in list1]\n",
    "print(list2)"
   ]
  },
  {
   "cell_type": "code",
   "execution_count": 5,
   "metadata": {},
   "outputs": [
    {
     "name": "stdout",
     "output_type": "stream",
     "text": [
      "[2, 4, 6, 8, 10, 12, 14, 16, 18]\n"
     ]
    }
   ],
   "source": [
    "# 带有判断的列表内涵，通过range建立list1，再通过list1取其偶数建立list2\n",
    "list1 = [i for i in range(1, 20)]\n",
    "list2 = [i for i in list1 if i % 2 == 0]\n",
    "print(list2)"
   ]
  },
  {
   "cell_type": "code",
   "execution_count": 6,
   "metadata": {},
   "outputs": [],
   "source": [
    "# 多循环的列表内涵\n",
    "list1 = [i for i in range(1,20)]\n",
    "list2  = [i for i in range(10,200) if i % 100 == 0]"
   ]
  },
  {
   "cell_type": "code",
   "execution_count": 7,
   "metadata": {},
   "outputs": [
    {
     "name": "stdout",
     "output_type": "stream",
     "text": [
      "[100, 200, 300, 400, 500, 600, 700, 800, 900, 1000, 1100, 1200, 1300, 1400, 1500, 1600, 1700, 1800, 1900]\n"
     ]
    }
   ],
   "source": [
    "list3 = [m*n for m in list1 for n in list2]        # 相当于两个for循环嵌套，前面的m*n可以是任意运算\n",
    "print(list3)"
   ]
  },
  {
   "cell_type": "code",
   "execution_count": 8,
   "metadata": {},
   "outputs": [
    {
     "name": "stdout",
     "output_type": "stream",
     "text": [
      "[100, 200, 300, 400, 500, 600, 700, 800, 900, 1000]\n"
     ]
    }
   ],
   "source": [
    "# 多循环带判断的列表内涵\n",
    "list3 = [m*n for m in list1 for n in list2 if m*n <= 1000]\n",
    "print(list3)"
   ]
  },
  {
   "cell_type": "code",
   "execution_count": 9,
   "metadata": {},
   "outputs": [
    {
     "name": "stdout",
     "output_type": "stream",
     "text": [
      "[100, 200, 300, 400, 500, 600, 700, 800, 900, 1000]\n"
     ]
    }
   ],
   "source": [
    "# 上面代码跟下面代码等价\n",
    "list3 = []\n",
    "for m in list1:\n",
    "    for n in list2:\n",
    "        if m*n <= 1000:\n",
    "            list3.append(m*n)\n",
    "print(list3)"
   ]
  },
  {
   "cell_type": "markdown",
   "metadata": {},
   "source": [
    "# 列表常用函数"
   ]
  },
  {
   "cell_type": "code",
   "execution_count": 11,
   "metadata": {},
   "outputs": [
    {
     "name": "stdout",
     "output_type": "stream",
     "text": [
      "[1, 2, 3, 4]\n",
      "[1, 2, 3, 4, 100]\n"
     ]
    }
   ],
   "source": [
    "# append 在原列表末尾追加一个元素，追加的都当元素处理\n",
    "a = [i for i in range(1,5)]\n",
    "print(a)\n",
    "a.append(100)\n",
    "print(a)"
   ]
  },
  {
   "cell_type": "code",
   "execution_count": 14,
   "metadata": {},
   "outputs": [
    {
     "name": "stdout",
     "output_type": "stream",
     "text": [
      "[1, 2, 3, 4, 5]\n",
      "81634120\n",
      "[1, 2, 3, 4, 5, 6, 7, 8, 9, 10]\n",
      "81634120\n"
     ]
    }
   ],
   "source": [
    "# extend 在原列表末尾扩展列表，必须是列表\n",
    "a = [1,2,3,4,5]\n",
    "b = [6,7,8,9,10]\n",
    "print(a)\n",
    "print(id(a))\n",
    "\n",
    "a.extend(b)\n",
    "\n",
    "print(a)\n",
    "print(id(a))"
   ]
  },
  {
   "cell_type": "code",
   "execution_count": 20,
   "metadata": {},
   "outputs": [
    {
     "name": "stdout",
     "output_type": "stream",
     "text": [
      "[1, 2, 3, 4, 5, 6, 7, 8, 9]\n",
      "[1, 2, 3, 888, 4, 5, 6, 7, 8, 9]\n"
     ]
    }
   ],
   "source": [
    "# insert: 指定位置插入元素\n",
    "a = [i for i in range(1,10)]\n",
    "print(a)\n",
    "a.insert(3, 888)\n",
    "print(a)"
   ]
  },
  {
   "cell_type": "code",
   "execution_count": 55,
   "metadata": {},
   "outputs": [
    {
     "name": "stdout",
     "output_type": "stream",
     "text": [
      "[1, 2, 3, 4, 5, 6, 7, 8, 9]\n",
      "[1, 2, 3, 5, 6, 7, 8, 9]\n",
      "9\n",
      "[1, 2, 3, 5, 6, 7, 8]\n",
      "请输入要删除的元素值：100\n",
      "列表中没有值为100的元素\n",
      "[1, 2, 3, 5, 6, 7, 8]\n"
     ]
    }
   ],
   "source": [
    "# 删除有3种：del、pop、remove\n",
    "# del 删除指定位置的元素，不返回被删除的元素，也可以直接删除整个列表\n",
    "a = [i for i in range(1,10)]\n",
    "print(a)\n",
    "del a[3]\n",
    "print(a)\n",
    "\n",
    "# pop 删除列表末尾的元素，返回被删除的元素\n",
    "last_ele = a.pop()\n",
    "print(last_ele)\n",
    "print(a)\n",
    "\n",
    "# remove 删除指定值的元素，不返回被删除的元素，若值不存在则会报错，因此删除之前应该先判断\n",
    "ele_move = int(input('请输入要删除的元素值：'))\n",
    "if ele_move in a:\n",
    "    a.remove(ele_move)\n",
    "else:\n",
    "    print('列表中没有值为{}的元素'.format(ele_move))\n",
    "print(a)"
   ]
  },
  {
   "cell_type": "code",
   "execution_count": 59,
   "metadata": {},
   "outputs": [
    {
     "name": "stdout",
     "output_type": "stream",
     "text": [
      "[1, 2, 3, 4, 5, 6, 7, 8, 9]\n",
      "81648904\n",
      "[]\n",
      "81648904\n"
     ]
    }
   ],
   "source": [
    "# clear 清空列表中的所有元素，列表本身还在，只是空列表了，和del删除列表不同，del列表之后，列表本身就不在了\n",
    "a = [i for i in range(1,10)]\n",
    "print(a)\n",
    "print(id(a))\n",
    "a.clear()\n",
    "print(a)\n",
    "print(id(a))"
   ]
  },
  {
   "cell_type": "code",
   "execution_count": 65,
   "metadata": {},
   "outputs": [
    {
     "name": "stdout",
     "output_type": "stream",
     "text": [
      "[1, 2, 3, 4, 5, 6, 7, 8, 9, 10]\n",
      "[10, 9, 8, 7, 6, 5, 4, 3, 2, 1]\n"
     ]
    }
   ],
   "source": [
    "# reverse:翻转列表内容，原地翻转，内存地址不变\n",
    "a = [i for i in range(1, 11)]\n",
    "print(a)\n",
    "a.reverse()\n",
    "print(a)"
   ]
  },
  {
   "cell_type": "code",
   "execution_count": 69,
   "metadata": {},
   "outputs": [
    {
     "name": "stdout",
     "output_type": "stream",
     "text": [
      "[1, 2, 3, 4, 5, 6, 7, 8, 9]\n",
      "[1, 2, 3, 8, 4, 5, 6, 7, 8, 9, 8]\n",
      "3\n"
     ]
    }
   ],
   "source": [
    "# count:查找列表中指定值或元素的个数\n",
    "a = [i for i in range(1, 10)]\n",
    "print(a)\n",
    "a.append(8)\n",
    "a.insert(3, 8)\n",
    "print(a)\n",
    "print(a.count(8))"
   ]
  },
  {
   "cell_type": "code",
   "execution_count": 77,
   "metadata": {},
   "outputs": [
    {
     "name": "stdout",
     "output_type": "stream",
     "text": [
      "[1, 2, 3, 4, 5, 6]\n",
      "[1, 2, 777, 4, 5, 6]\n",
      "81721288\n",
      "[1, 2, 777, 4, 5, 6]\n",
      "81721288\n",
      "--------------------\n",
      "[1, 2, 777, 4, 5, 6]\n",
      "81721288\n",
      "[1, 2, 777, 4, 5, 6]\n",
      "81857608\n",
      "[1, 2, 777, 4, 5, 6]\n",
      "[1, 2, 123, 4, 5, 6]\n"
     ]
    }
   ],
   "source": [
    "# copy 拷贝，浅拷贝\n",
    "\n",
    "# 列表类型变量赋值示例\n",
    "a = [1, 2, 3, 4, 5, 6]\n",
    "print(a)\n",
    "\n",
    "# list类型，简单赋值操作，是传址，这一步的赋值操作，仅仅是建立一个新的b并指向a的内存地址而已，a,b指的是同一块内存\n",
    "b = a\n",
    "b[2] = 777       # 改了b中的元素，也会改变a的元素\n",
    "print(a)\n",
    "print(id(a))\n",
    "print(b)\n",
    "print(id(b))     # a，b的内存id是同一个值\n",
    "\n",
    "print(\"-\" * 20)\n",
    "\n",
    "# 为了解决以上问题，list赋值需要采用copy函数，这样就真正复制了一个和a元素一样的列表b，而且它们不是一块内存\n",
    "b = a.copy()\n",
    "print(a)\n",
    "print(id(a))\n",
    "print(b)\n",
    "print(id(b))     # a，b的内存id不是一个值\n",
    "\n",
    "b[2] = 123       # 改了b中的元素，不会改变a的元素\n",
    "print(a)\n",
    "print(b)"
   ]
  },
  {
   "cell_type": "code",
   "execution_count": 244,
   "metadata": {},
   "outputs": [
    {
     "name": "stdout",
     "output_type": "stream",
     "text": [
      "82566536\n",
      "82422216\n",
      "82514888\n",
      "82514888\n",
      "[1, 2, 3, [10, 20, 666]]\n",
      "[1, 2, 3, [10, 20, 666]]\n"
     ]
    }
   ],
   "source": [
    "# copy()函数是浅拷贝\n",
    "# 先看下面的示例\n",
    "a = [1,2,3, [10, 20, 30]]\n",
    "b = a.copy()\n",
    "print(id(a))\n",
    "print(id(b))\n",
    "print(id(a[3]))\n",
    "print(id(b[3]))\n",
    "b[3][2] = 666    # 改了列表b中子列表b[3]的元素，也会改变子列表a[3]的元素\n",
    "print(a)\n",
    "print(b)\n",
    "\n",
    "# 可以看出，第一层列表的内存id是不一样的，而第二层列表的内存id是一样的，这说明，copy只能完成第一层拷贝，这就是所谓的浅拷贝(Shallow Copy)"
   ]
  },
  {
   "cell_type": "code",
   "execution_count": 245,
   "metadata": {},
   "outputs": [
    {
     "name": "stdout",
     "output_type": "stream",
     "text": [
      "82403208\n",
      "82423368\n",
      "80125768\n",
      "82517960\n",
      "[1, 2, 3, [10, 20, 30]]\n",
      "[1, 2, 3, [10, 20, 666]]\n"
     ]
    }
   ],
   "source": [
    "# 导入copy包，使用list2 = copy.deepcopy(list1)，可以完成深层次的拷贝，即深拷贝(Deep Copy)\n",
    "import copy\n",
    "a = [1,2,3, [10, 20, 30]]\n",
    "b = copy.deepcopy(a)\n",
    "print(id(a))\n",
    "print(id(b))\n",
    "print(id(a[3]))\n",
    "print(id(b[3]))\n",
    "b[3][2] = 666    # 改了列表b中子列表b[3]的元素，不会改变子列表a[3]的元素\n",
    "print(a)\n",
    "print(b)\n",
    "# 每一层列表的内存id都是各不相同的，说明copy.deepcopy完成了每个层次的拷贝"
   ]
  },
  {
   "cell_type": "markdown",
   "metadata": {},
   "source": [
    "# 元组的相关操作\n",
    "\n",
    "- 元组除了不可修改以外，其他特性和list一样，因此元组的相关操作比如：索引、分片、序列相加、相乘、成员资格操作等，一模一样\n",
    "- 再次提醒：元组的标志符号是英文半角逗号，小括号只是辅助，不是它的标志符号"
   ]
  },
  {
   "cell_type": "code",
   "execution_count": 90,
   "metadata": {},
   "outputs": [
    {
     "name": "stdout",
     "output_type": "stream",
     "text": [
      "1 2 3 I love Python "
     ]
    }
   ],
   "source": [
    "# 元组的遍历一般使用for\n",
    "\n",
    "# 单层元组的遍历\n",
    "t = (1,2,3,\"I\", \"love\", \"Python\")\n",
    "for i in t:\n",
    "    print(i, end=\" \")"
   ]
  },
  {
   "cell_type": "code",
   "execution_count": 98,
   "metadata": {},
   "outputs": [
    {
     "name": "stdout",
     "output_type": "stream",
     "text": [
      "(1, 2, 3)\n",
      "('My name', 'is', 'ZhangSan')\n",
      "('I', 'love', 'Python')\n",
      "--------------------\n",
      "1 2 3 My name is ZhangSan I love Python "
     ]
    }
   ],
   "source": [
    "# 双层元组的遍历\n",
    "t = ((1,2,3), (\"My name\", \"is\", \"ZhangSan\"),(\"I\", \"love\", \"Python\"))\n",
    "\n",
    "for i in t:\n",
    "    print(i)\n",
    "    \n",
    "print('-'*20)  \n",
    "\n",
    "for k,m,n in t:\n",
    "    print(k, m, n, end=\" \")"
   ]
  },
  {
   "cell_type": "markdown",
   "metadata": {},
   "source": [
    "# 元组的常用函数\n",
    "\n",
    "- 基本和list通用，需要了解的是元组变量交换值"
   ]
  },
  {
   "cell_type": "code",
   "execution_count": 1,
   "metadata": {},
   "outputs": [
    {
     "name": "stdout",
     "output_type": "stream",
     "text": [
      "before swap:a = 1, b= 100\n",
      "after swap:a = 100, b= 1\n",
      "------------------------------\n",
      "before swap:a = 100, b= 1\n",
      "before swap:a = 1, b= 100\n"
     ]
    }
   ],
   "source": [
    "# 利用元组实现两个变量交换值\n",
    "a = 1\n",
    "b = 100\n",
    "\n",
    "print('before swap:a = {}, b= {}'.format(a, b))\n",
    "a,b = b,a     # 直接用元组来交换即可\n",
    "print('after swap:a = {}, b= {}'.format(a, b))\n",
    "\n",
    "print(\"-\" * 30)\n",
    "\n",
    "# 而不必用第三个变量来中转\n",
    "print('before swap:a = {}, b= {}'.format(a, b))\n",
    "c = a\n",
    "a = b\n",
    "b = c\n",
    "print('before swap:a = {}, b= {}'.format(a, b))"
   ]
  },
  {
   "cell_type": "markdown",
   "metadata": {},
   "source": [
    "# 集合相关操作\n",
    "\n",
    "## 集合的定义\n",
    "\n",
    "- 创建空集合  变量 = set()\n",
    "- 创建多个数据的集合  变量 = {值1, 值2, 值3, ...}\n",
    "- 注意：集合的内部元素绝对唯一，所以集合中出现多个相同数据时只会保留一份\n",
    "\n",
    "## 集合的特征\n",
    "\n",
    "- 集合无序，无法进行索引和分片操作\n",
    "- 集合是内部元素绝对唯一的数据，常常用于去掉重复数据\n",
    "- 集合的数据，str，int，float,bool,tuple，只能存可哈希的数据\n",
    "- 所谓可哈希和不可哈希：\n",
    "    - 可变类型的数据不可哈希：列表，字典\n",
    "    - 不可变类型的数据可哈希：数值、字母、字符串、数字、元组、冰冻集合\n",
    "- 怎么判断：\n",
    "    - 改值，id不变，为可变类型，不可哈希；\n",
    "    - 改值（一般无法直接修改），id改变，为不可变类型，可哈希。"
   ]
  },
  {
   "cell_type": "code",
   "execution_count": 28,
   "metadata": {},
   "outputs": [
    {
     "name": "stdout",
     "output_type": "stream",
     "text": [
      "[1, 2, 3]\n",
      "79619720\n",
      "[2, 2, 3]\n",
      "79619720\n"
     ]
    }
   ],
   "source": [
    "# 列表改值id不变，为可变类型，不可哈希\n",
    "list1 = [1, 2, 3]\n",
    "print(list1)\n",
    "print(id(list1))\n",
    "\n",
    "list1[0] = 2      # 列表可以通过索引下标直接修改\n",
    "\n",
    "print(list1)\n",
    "print(id(list1))"
   ]
  },
  {
   "cell_type": "code",
   "execution_count": 29,
   "metadata": {},
   "outputs": [
    {
     "name": "stdout",
     "output_type": "stream",
     "text": [
      "{'a': 1, 'b': 2, 'c': 3}\n",
      "79697456\n",
      "{'a': 'A', 'b': 2, 'c': 3}\n",
      "79697456\n"
     ]
    }
   ],
   "source": [
    "# 字典改值id不变，为可变类型，不可哈希\n",
    "dict1 = {'a':1, 'b':2, 'c':3}\n",
    "print(dict1)\n",
    "print(id(dict1))\n",
    "\n",
    "dict1['a'] = 'A'      # 字典可以通过索引键直接修改\n",
    "\n",
    "print(dict1)\n",
    "print(id(dict1))"
   ]
  },
  {
   "cell_type": "code",
   "execution_count": 31,
   "metadata": {},
   "outputs": [
    {
     "name": "stdout",
     "output_type": "stream",
     "text": [
      "abcdefg\n",
      "79658096\n",
      "Abcdefg\n",
      "79636552\n"
     ]
    }
   ],
   "source": [
    "# 字符串改值（不能直接改，借助于replace函数），id改变，为不可变类型，可哈希\n",
    "str1 = 'abcdefg'\n",
    "print(str1)\n",
    "print(id(str1))\n",
    "\n",
    "#str1[0] = 'A'  字符串不能这样直接修改\n",
    "\n",
    "str1 = str1.replace('a', 'A')   # 借助于replace函数，这只是一种方法，还有其他几种修改字符串的方法，但就是不能直接修改\n",
    "\n",
    "print(str1)\n",
    "print(id(str1))"
   ]
  },
  {
   "cell_type": "code",
   "execution_count": 42,
   "metadata": {},
   "outputs": [
    {
     "name": "stdout",
     "output_type": "stream",
     "text": [
      "('刘能', '谢广坤', '赵四', '王大拿', '王老七', '谢大脚')\n",
      "51676552\n",
      "('刘能', '谢广坤', '尼古拉斯.赵四', '王大拿', '王老七', '谢大脚')\n",
      "78671208\n"
     ]
    }
   ],
   "source": [
    "# 元组的改值（当然不能改，不过可以通过分片的方式偷梁换柱），既是偷梁换柱，id当然变了，这是不可变类型，可哈希\n",
    "tup1 = ('刘能', '谢广坤', '赵四', '王大拿', '王老七', '谢大脚')\n",
    "print(tup1)\n",
    "print(id(tup1))\n",
    "\n",
    "tup1 = tup1[:2] + ('尼古拉斯.赵四',) + tup1[3:]\n",
    "# 其实是：元组的0到1 + 连上新的一个元素的元组 + 元组的3到5，丢了原来的2，组成一个新的元组，看上去似乎是原来的元组改了值\n",
    "\n",
    "print(tup1)\n",
    "print(id(tup1))"
   ]
  },
  {
   "cell_type": "markdown",
   "metadata": {},
   "source": [
    "## 集合遍历操作"
   ]
  },
  {
   "cell_type": "code",
   "execution_count": 45,
   "metadata": {},
   "outputs": [
    {
     "name": "stdout",
     "output_type": "stream",
     "text": [
      "1 2 谢广坤 赵四 王大拿 王老七 刘能 "
     ]
    }
   ],
   "source": [
    "# for 循环遍历\n",
    "s = {1, 2, '刘能', '谢广坤', '赵四', '王大拿', '王老七',}\n",
    "\n",
    "for i in s:\n",
    "    print(i, end=\" \")"
   ]
  },
  {
   "cell_type": "code",
   "execution_count": 50,
   "metadata": {},
   "outputs": [
    {
     "name": "stdout",
     "output_type": "stream",
     "text": [
      "('刘能', '谢广坤', '赵四')\n",
      "(4, 5, 6)\n",
      "(1, 2, 3)\n",
      "------------------------------\n",
      "刘能 -- 谢广坤 -- 赵四\n",
      "4 -- 5 -- 6\n",
      "1 -- 2 -- 3\n"
     ]
    }
   ],
   "source": [
    "# 带有元组的集合遍历\n",
    "s = {(1,2,3), ('刘能', '谢广坤', '赵四'), (4,5,6)}\n",
    "\n",
    "for i in s:\n",
    "    print(i)\n",
    "\n",
    "print('-'*30)\n",
    "    \n",
    "for k,m,n in s:\n",
    "    print(k, \"--\", m, \"--\", n)\n",
    "    \n"
   ]
  },
  {
   "cell_type": "markdown",
   "metadata": {},
   "source": [
    "## 集合的内涵\n",
    "\n",
    "### 普通集合内涵"
   ]
  },
  {
   "cell_type": "code",
   "execution_count": 53,
   "metadata": {},
   "outputs": [
    {
     "name": "stdout",
     "output_type": "stream",
     "text": [
      "{545, 1, 3, 2, 4, 23, 223}\n",
      "{545, 2, 3, 4, 1, 23, 223}\n"
     ]
    }
   ],
   "source": [
    "# 以下集合在初始化后自动过滤掉重复元素\n",
    "s1 = {23,223,545,3,1,2,3,4,3,2,3,1,2,4,3}\n",
    "print(s1)\n",
    "\n",
    "# 普通集合内涵\n",
    "s2 = {i for i in s1}\n",
    "print(s2)"
   ]
  },
  {
   "cell_type": "markdown",
   "metadata": {},
   "source": [
    "### 带条件的集合内涵"
   ]
  },
  {
   "cell_type": "code",
   "execution_count": 57,
   "metadata": {},
   "outputs": [
    {
     "name": "stdout",
     "output_type": "stream",
     "text": [
      "{545, 1, 3, 23, 223}\n"
     ]
    }
   ],
   "source": [
    "# 带条件的集合内涵\n",
    "s3 = {i for i in s1 if i % 2 != 0}\n",
    "print(s3)"
   ]
  },
  {
   "cell_type": "markdown",
   "metadata": {},
   "source": [
    "### 多循环的集合内涵"
   ]
  },
  {
   "cell_type": "code",
   "execution_count": 66,
   "metadata": {},
   "outputs": [
    {
     "name": "stdout",
     "output_type": "stream",
     "text": [
      "{'BaBaBa', 'Cb', 'Aa', 'Cc', 'CaCa', 'Bc', 'Ac', 'Ab', 'BcBcBc', 'BcBc', 'AaAa', 'AcAcAc', 'BbBbBb', 'BaBa', 'Bb', 'CbCb', 'Ba', 'CcCc', 'AaAaAa', 'Ca', 'AcAc', 'AbAb', 'CcCcCc', 'CbCbCb', 'AbAbAb', 'BbBb', 'CaCaCa'}\n"
     ]
    }
   ],
   "source": [
    "# 多循环的集合内涵\n",
    "s1 = {\"A\", \"B\", \"C\"}\n",
    "s2 = {\"a\", \"b\", \"c\"}\n",
    "s3 = {1, 2, 3}\n",
    "\n",
    "s = {(m+n)*k for k in s3 for n in s2 for m in s1}\n",
    "print(s)"
   ]
  },
  {
   "cell_type": "markdown",
   "metadata": {},
   "source": [
    "### 多循环带条件的集合内涵"
   ]
  },
  {
   "cell_type": "code",
   "execution_count": 71,
   "metadata": {},
   "outputs": [
    {
     "name": "stdout",
     "output_type": "stream",
     "text": [
      "{'BaBa', 'CbCb', 'CaCa', 'CcCc', 'BcBc', 'AaAa', 'AcAc', 'BbBb', 'AbAb'}\n"
     ]
    }
   ],
   "source": [
    "s = {(m+n)*k for k in s3 for n in s2 for m in s1 if k == 2}\n",
    "print(s)"
   ]
  },
  {
   "cell_type": "markdown",
   "metadata": {},
   "source": [
    "# 集合常见函数"
   ]
  },
  {
   "cell_type": "code",
   "execution_count": 85,
   "metadata": {},
   "outputs": [
    {
     "name": "stdout",
     "output_type": "stream",
     "text": [
      "{'2', '4', '3', '1'}\n",
      "{1, 2, 3, 5, 6, 7, 8, 9}\n",
      "1 2 3 5 6 7 8 9 "
     ]
    }
   ],
   "source": [
    "# set 生成一个集合，转化成集合（去除重复元素，如是数字则会呈现从小到大的顺序，但是心里要清楚：集合是无序的）\n",
    "s1 = set('12343231234')\n",
    "s2 = set([1, 2, 5, 5, 6, 3, 3, 9, 8, 1, 7])\n",
    "print(s1)\n",
    "print(s2)\n",
    "for i in s2:\n",
    "    print(i, end=\" \")"
   ]
  },
  {
   "cell_type": "code",
   "execution_count": 81,
   "metadata": {},
   "outputs": [
    {
     "name": "stdout",
     "output_type": "stream",
     "text": [
      "{1, 2, 3, 5, 6}\n"
     ]
    }
   ],
   "source": [
    "# add 向集合内添加元素，在list里面用的是append/insert/exprnd\n",
    "s = {1, 2, 3, 5}\n",
    "s.add(6)\n",
    "print(s)"
   ]
  },
  {
   "cell_type": "code",
   "execution_count": 96,
   "metadata": {},
   "outputs": [
    {
     "name": "stdout",
     "output_type": "stream",
     "text": [
      "before            : {1, 2, 3, 5, 23, 122}\n",
      "after remove 23   : {1, 2, 3, 5, 122}\n",
      "after discard 122 : {1, 2, 3, 5}\n",
      "--------------------------------------------------\n",
      "{1, 2, 3, 5}\n"
     ]
    },
    {
     "ename": "KeyError",
     "evalue": "1100",
     "output_type": "error",
     "traceback": [
      "\u001b[1;31m---------------------------------------------------------------------------\u001b[0m",
      "\u001b[1;31mKeyError\u001b[0m                                  Traceback (most recent call last)",
      "\u001b[1;32m<ipython-input-96-0b082a4fd065>\u001b[0m in \u001b[0;36m<module>\u001b[1;34m()\u001b[0m\n\u001b[0;32m     14\u001b[0m \u001b[0mprint\u001b[0m\u001b[1;33m(\u001b[0m\u001b[0ms1\u001b[0m\u001b[1;33m)\u001b[0m\u001b[1;33m\u001b[0m\u001b[0m\n\u001b[0;32m     15\u001b[0m \u001b[1;33m\u001b[0m\u001b[0m\n\u001b[1;32m---> 16\u001b[1;33m \u001b[0ms1\u001b[0m\u001b[1;33m.\u001b[0m\u001b[0mremove\u001b[0m\u001b[1;33m(\u001b[0m\u001b[1;36m1100\u001b[0m\u001b[1;33m)\u001b[0m          \u001b[1;31m# 会报错\u001b[0m\u001b[1;33m\u001b[0m\u001b[0m\n\u001b[0m\u001b[0;32m     17\u001b[0m \u001b[0mprint\u001b[0m\u001b[1;33m(\u001b[0m\u001b[0ms1\u001b[0m\u001b[1;33m)\u001b[0m\u001b[1;33m\u001b[0m\u001b[0m\n",
      "\u001b[1;31mKeyError\u001b[0m: 1100"
     ]
    }
   ],
   "source": [
    "# remove 移除制定的值，直接改变原有值，如果要删除的值不存在，报错\n",
    "# discard 移除指定的值，跟remove一样，但是如果要删除的值不在，不报错\n",
    "s1 = {23,3,5,1,2,122}\n",
    "print('before            :', s1)\n",
    "s1.remove(23)\n",
    "print('after remove 23   :', s1)\n",
    "\n",
    "s1.discard(122)\n",
    "print('after discard 122 :', s1)\n",
    "\n",
    "print(\"-\" * 50)\n",
    "\n",
    "s1.discard(1100)          # 不会报错\n",
    "print(s1)\n",
    "\n",
    "s1.remove(1100)          # 会报错\n",
    "print(s1)"
   ]
  },
  {
   "cell_type": "code",
   "execution_count": 139,
   "metadata": {},
   "outputs": [
    {
     "name": "stdout",
     "output_type": "stream",
     "text": [
      "1\n"
     ]
    }
   ],
   "source": [
    "# pop 随机移除一个元素（因为集合无序，只能随机pop，如果是有序的像list，就是pop最后一个元素）\n",
    "s = {1,11,55,2,3,4,5,6,7}\n",
    "print(s.pop())"
   ]
  },
  {
   "cell_type": "code",
   "execution_count": 165,
   "metadata": {},
   "outputs": [
    {
     "name": "stdout",
     "output_type": "stream",
     "text": [
      "s1 = {1, 2, 3, 4, 5, 6}\n",
      "s2 = {5, 6, 7, 8, 9}\n",
      "s3 = {8, 9, 7}\n",
      "s1和s2的交集是： {5, 6}\n",
      "s1和s2的差集是： {1, 2, 3, 4}\n",
      "s1和s2的并集是： {1, 2, 3, 4, 5, 6, 7, 8, 9}\n",
      "s3是s2的子集： True\n",
      "s2是s3的超集： True\n"
     ]
    }
   ],
   "source": [
    "# s1.intersection(s2)  交集，s1和s2重合的那一部分\n",
    "# s1.difference(s2)    差集，s1减去s1和s2重合的那一部分\n",
    "# s1.union(s2)         并集，s1和s2涵盖的所有部分\n",
    "# s1.issubset(s2)      检查s1是否为s2的子集\n",
    "# s1.issuperset(s2)    检查s1是否为s2的超集（父集）\n",
    "\n",
    "s1 = {1,2,3,4,5,6}\n",
    "s2 = {5,6,7,8,9}\n",
    "s3 = {7,8,9}\n",
    "print('s1 = {}\\ns2 = {}\\ns3 = {}'.format(s1, s2, s3))\n",
    "\n",
    "s_inter = s1.intersection(s2)\n",
    "print('s1和s2的交集是：', s_inter)\n",
    "\n",
    "s_dif = s1.difference(s2)\n",
    "print('s1和s2的差集是：', s_dif)\n",
    "\n",
    "s_uni = s1.union(s2)\n",
    "print('s1和s2的并集是：', s_uni)\n",
    "\n",
    "print('s3是s2的子集：', s3.issubset(s2))\n",
    "print('s2是s3的超集：', s2.issuperset(s3))"
   ]
  },
  {
   "cell_type": "code",
   "execution_count": 168,
   "metadata": {},
   "outputs": [
    {
     "name": "stdout",
     "output_type": "stream",
     "text": [
      "{1, 2, 3, 4}\n"
     ]
    }
   ],
   "source": [
    "# 差集的数学操作\n",
    "s1 = {1,2,3,4,5,6}\n",
    "s2 = {5,6,7,8,9}\n",
    "\n",
    "s_1 = s1 - s2     # 相当于求s1和s2的差集\n",
    "print(s_1)"
   ]
  },
  {
   "cell_type": "markdown",
   "metadata": {},
   "source": [
    "# frozenset 冰冻集合\n",
    "\n",
    "- 冰冻集合就是不可以进行任何修改的集合\n",
    "- 冰冻集合是一种特殊集合"
   ]
  },
  {
   "cell_type": "code",
   "execution_count": 170,
   "metadata": {},
   "outputs": [
    {
     "name": "stdout",
     "output_type": "stream",
     "text": [
      "<class 'frozenset'>\n",
      "frozenset()\n"
     ]
    }
   ],
   "source": [
    "# 创建空冰冻集合\n",
    "s = frozenset()\n",
    "print(type(s))\n",
    "print(s)"
   ]
  },
  {
   "cell_type": "code",
   "execution_count": 181,
   "metadata": {},
   "outputs": [
    {
     "name": "stdout",
     "output_type": "stream",
     "text": [
      "frozenset({'h', 'k', 'd', 'b', 'e', 'f', 'i', 'c', 'j', 'g', 'a'})\n"
     ]
    }
   ],
   "source": [
    "s = frozenset('abcdefghijk')\n",
    "#s.add('l')           # 不能添加\n",
    "#s.remove('f')        # 不能删除\n",
    "print(s)\n"
   ]
  },
  {
   "cell_type": "markdown",
   "metadata": {},
   "source": [
    "# 字典相关操作"
   ]
  },
  {
   "cell_type": "markdown",
   "metadata": {},
   "source": [
    "## 空字典的创建"
   ]
  },
  {
   "cell_type": "code",
   "execution_count": 183,
   "metadata": {},
   "outputs": [
    {
     "name": "stdout",
     "output_type": "stream",
     "text": [
      "<class 'dict'>\n",
      "{}\n",
      "<class 'dict'>\n",
      "{}\n"
     ]
    }
   ],
   "source": [
    "d1 = {}\n",
    "print(type(d1))\n",
    "print(d1)\n",
    "\n",
    "d2 = dict()\n",
    "print(type(d2))\n",
    "print(d2)"
   ]
  },
  {
   "cell_type": "markdown",
   "metadata": {},
   "source": [
    "## 非空字典的创建"
   ]
  },
  {
   "cell_type": "code",
   "execution_count": 186,
   "metadata": {},
   "outputs": [
    {
     "name": "stdout",
     "output_type": "stream",
     "text": [
      "{'one': 1, 'two': 2, 'three': 3}\n",
      "{'one': 1, 'two': 2, 'three': 3}\n",
      "{'one': 1, 'two': 2, 'three': 3}\n"
     ]
    }
   ],
   "source": [
    "# 一般的创建：大括号和键值对\n",
    "d1 = {\"one\":1, \"two\":2, \"three\":3}\n",
    "print(d1)\n",
    "\n",
    "# 用dict创建有内容字典：dict和键值对\n",
    "d2 = dict({\"one\":1, \"two\":2, \"three\":3})\n",
    "print(d2)\n",
    "\n",
    "# 用dict创建有内容字典：dict和关键字参数\n",
    "d3 = dict(one=1, two=2, three=3)\n",
    "print(d3)"
   ]
  },
  {
   "cell_type": "markdown",
   "metadata": {},
   "source": [
    "## 字典的特征\n",
    "\n",
    "- 字典，无序，没有分片和索引操作\n",
    "- 字典中的元素是键值对k:v\n",
    "    - key: 必须是可哈希的值，比如int,string,float,tuple, 但是list,set,dict 不行\n",
    "    - value: 任何值"
   ]
  },
  {
   "cell_type": "code",
   "execution_count": 199,
   "metadata": {},
   "outputs": [
    {
     "name": "stdout",
     "output_type": "stream",
     "text": [
      "字典是：\n",
      " {'one': 1, 'two': 2, 'three': 3}\n",
      "键\"one\"的值是：\n",
      " 1\n",
      "键\"one\"的值修改为\"一\"之后的字典：\n",
      " {'one': '一', 'two': 2, 'three': 3}\n",
      "删除键\"one\"后的字典是：\n",
      " {'two': 2, 'three': 3}\n"
     ]
    }
   ],
   "source": [
    "# 访问数据\n",
    "d = {\"one\":1, \"two\":2, \"three\":3}\n",
    "print('字典是：\\n', d)\n",
    "\n",
    "v1 = d[\"one\"]        # 注意访问格式是：中括号内放键值\n",
    "print('键\"one\"的值是：\\n', v1)\n",
    "\n",
    "d[\"one\"] = \"一\"     # 注意是：键\"one\"对应的值\"1\"修改为\"一\"，而不是\"one\"修改为\"一\"\n",
    "print('键\"one\"的值修改为\"一\"之后的字典：\\n', d)\n",
    "\n",
    "del d[\"one\"]       # 使用del操作删除某一个键值对，键和值都删除\n",
    "print('删除键\"one\"后的字典是：\\n', d)"
   ]
  },
  {
   "cell_type": "code",
   "execution_count": 206,
   "metadata": {},
   "outputs": [
    {
     "name": "stdout",
     "output_type": "stream",
     "text": [
      "key\n"
     ]
    }
   ],
   "source": [
    "# 成员检测， in， not in          注意：成员检测检测的是键key\n",
    "d = {\"one\":1, \"two\":2, \"three\":3}\n",
    "\n",
    "if 2 in d:\n",
    "    print(\"value\")\n",
    "    \n",
    "if \"two\" in d:             # 只有检测键才是对的，就像查字典一样\n",
    "    print(\"key\")\n",
    "    \n",
    "if (\"two\", 2) in d:\n",
    "    print(\"kv\")"
   ]
  },
  {
   "cell_type": "code",
   "execution_count": 219,
   "metadata": {},
   "outputs": [
    {
     "name": "stdout",
     "output_type": "stream",
     "text": [
      "one 1 two 2 three 3 \n",
      "one 1 two 2 three 3 \n",
      "1 2 3 \n",
      "one : 1 two : 2 three : 3 "
     ]
    }
   ],
   "source": [
    "# 字典的遍历    在python2 和 3 中区别比较大，代码不通用\n",
    "\n",
    "d = {\"one\":1, \"two\":2, \"three\":3}\n",
    "# 按key遍历\n",
    "for k in d:\n",
    "    print(k, d[k], end=\" \")\n",
    "\n",
    "print()    \n",
    "\n",
    "# 上述代码等价于\n",
    "for k in d.keys():\n",
    "    print(k, d[k], end=\" \")\n",
    "\n",
    "print()    \n",
    "    \n",
    "# 只按值遍历\n",
    "for v in d.values():\n",
    "    print(v, end=\" \")\n",
    "\n",
    "print()    \n",
    "    \n",
    "# 按键值对遍历\n",
    "for k,v in d.items():\n",
    "    print(k,':',v, end=\" \")"
   ]
  },
  {
   "cell_type": "markdown",
   "metadata": {},
   "source": [
    "## 字典生成式"
   ]
  },
  {
   "cell_type": "code",
   "execution_count": 226,
   "metadata": {},
   "outputs": [
    {
     "name": "stdout",
     "output_type": "stream",
     "text": [
      "{'one': 1, 'two': 2, 'three': 3}\n",
      "{'one': 1, 'three': 3}\n"
     ]
    }
   ],
   "source": [
    "d = {\"one\":1, \"two\":2, \"three\":3}\n",
    "\n",
    "# 常规字典生成式\n",
    "d1 = {k:v for k,v in d.items()}\n",
    "print(d1)\n",
    "\n",
    "\n",
    "# 加限制条件的字典生成式\n",
    "d2 = {k:v for k,v in d.items() if v % 2 != 0}\n",
    "print(d2)"
   ]
  },
  {
   "cell_type": "markdown",
   "metadata": {},
   "source": [
    "# 字典相关函数\n",
    "\n",
    "- 通用的函数 len, max, min, dict, clear..."
   ]
  },
  {
   "cell_type": "code",
   "execution_count": 246,
   "metadata": {},
   "outputs": [
    {
     "name": "stdout",
     "output_type": "stream",
     "text": [
      "82487768\n",
      "82519960\n",
      "82516552\n",
      "82516552\n"
     ]
    }
   ],
   "source": [
    "# 字典的copy和列表的copy一样，都是有浅拷贝和深拷贝之分\n",
    "\n",
    "# 浅拷贝 d1 = d.copy()\n",
    "d = {\"one\":1, \"two\":2, \"three\":[1, 2, 3]}\n",
    "\n",
    "d1 = d.copy()\n",
    "\n",
    "print(id(d))\n",
    "print(id(d1))\n",
    "print(id(d[\"three\"]))\n",
    "print(id(d1[\"three\"]))      # 内存id一样，说明没有真的拷贝"
   ]
  },
  {
   "cell_type": "code",
   "execution_count": 6,
   "metadata": {},
   "outputs": [
    {
     "name": "stdout",
     "output_type": "stream",
     "text": [
      "79531752\n",
      "79578312\n",
      "79306328\n",
      "79531392\n"
     ]
    }
   ],
   "source": [
    "# 深拷贝 引入拷贝包，import copy，然后使用deepcopy，d1 = copy.deepcopy(d)\n",
    "import copy\n",
    "\n",
    "d = {\"one\":1, \"two\":2, \"three\":{\"A\":\"a\", \"B\":\"b\", \"C\":\"c\"}}\n",
    "\n",
    "d1 = copy.deepcopy(d)\n",
    "\n",
    "print(id(d))\n",
    "print(id(d1))\n",
    "print(id(d[\"three\"]))\n",
    "print(id(d1[\"three\"]))      # 内存id不一样，说明真的拷贝了"
   ]
  },
  {
   "cell_type": "code",
   "execution_count": 10,
   "metadata": {},
   "outputs": [
    {
     "name": "stdout",
     "output_type": "stream",
     "text": [
      "dict_keys(['姓名', '性别', '年龄', '政治面貌', '联系方式'])\n",
      "dict_values(['张帅', '男', 25, '中共党员', '18865566537'])\n",
      "dict_items([('姓名', '张帅'), ('性别', '男'), ('年龄', 25), ('政治面貌', '中共党员'), ('联系方式', '18865566537')])\n"
     ]
    }
   ],
   "source": [
    "#dict1.keys()获取由字典中所有键组成的组合，数据类型是dict_keys\n",
    "#dict1.values()获取由字典中所有值组成的组合，数据类型是dict_values\n",
    "#dict1.items()获取由字典中所有“键:值”组成的组合，数据类型是dict_items\n",
    "\n",
    "dict1 = {'姓名':'张帅', '性别':'男', '年龄':25, '政治面貌':'中共党员', '联系方式':'18865566537'}\n",
    "\n",
    "print(dict1.keys())\n",
    "print(dict1.values())\n",
    "print(dict1.items())"
   ]
  },
  {
   "cell_type": "code",
   "execution_count": 1,
   "metadata": {},
   "outputs": [
    {
     "name": "stdout",
     "output_type": "stream",
     "text": [
      "1\n",
      "None\n",
      "error: the key is not in dict\n"
     ]
    }
   ],
   "source": [
    "# get: 返回指定键对应的值\n",
    "\n",
    "d = {\"one\":1, \"two\":2, \"three\":3}\n",
    " \n",
    "# get找不到会返回默认值是None，这是可以设置的，找不到也可以返回别的什么东西（数字、字符串什么的）\n",
    "print(d.get(\"one\", 100))\n",
    "print(d.get(\"four\"))\n",
    "print(d.get(\"four\", 'error: the key is not in dict'))\n",
    "\n",
    "#体会以下代码跟上面代码的区别\n",
    "#print(d['on333'])"
   ]
  },
  {
   "cell_type": "code",
   "execution_count": 4,
   "metadata": {},
   "outputs": [
    {
     "name": "stdout",
     "output_type": "stream",
     "text": [
      "{'one': 'go', 'two': 'go', 'three': 'go'}\n"
     ]
    }
   ],
   "source": [
    "# fromkeys  使用指定的序列作为键，使用一个值作为字典的所有的键的值，字典所有的值都一样\n",
    "list1 = [\"one\", \"two\", \"three\"]\n",
    "\n",
    "d = dict.fromkeys(list1, \"go\")\n",
    "print(d)"
   ]
  }
 ],
 "metadata": {
  "kernelspec": {
   "display_name": "Python 3",
   "language": "python",
   "name": "python3"
  },
  "language_info": {
   "codemirror_mode": {
    "name": "ipython",
    "version": 3
   },
   "file_extension": ".py",
   "mimetype": "text/x-python",
   "name": "python",
   "nbconvert_exporter": "python",
   "pygments_lexer": "ipython3",
   "version": "3.6.5"
  }
 },
 "nbformat": 4,
 "nbformat_minor": 2
}
