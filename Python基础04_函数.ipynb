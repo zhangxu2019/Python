{
 "cells": [
  {
   "cell_type": "markdown",
   "metadata": {},
   "source": [
    "# 函数的定义\n",
    "\n",
    "- 最基本的函数结构\n",
    "        \n",
    "        def 函数名()：\n",
    "            函数中的功能代码（python语句）\n",
    "            函数中的功能代码（python语句）\n",
    "            ...\n",
    "\n",
    "        调用函数： 函数名()\n",
    "\n",
    "- 具有参数的函数结构\n",
    "\n",
    "        def 函数名(参数名，参数名...):\n",
    "            函数中的代码（python语句）\n",
    "            函数中的代码（python语句）\n",
    "            ...\n",
    "\n",
    "        调用函数: 函数名(值,值...)\n",
    "    \n",
    "    - 声明函数的()中的参数称之为形参，形参表示形式上的参数\n",
    "    - 调用函数的()中的参数称之为实参，实参表示真实的值\n",
    "    - 注意：实参传递值给形参的过程，本质上就是普通的变量赋值\n",
    "    \n",
    "    \n",
    "- 具有默认值参数的函数\n",
    "            \n",
    "        def 函数名(形参名 = 默认值,形参名 = 默认值...):\n",
    "            函数中的代码（python语句）\n",
    "            函数中的代码（python语句）\n",
    "            ...\n",
    "    \n",
    "        调用函数1：\n",
    "        函数名()\n",
    "\n",
    "        调用函数2:\n",
    "        函数名(实参,实参...)\n",
    "        \n",
    "    - 注意：具有默认值的函数，调用时如果不提供实参，则会使用形参的默认值执行，如果提供了实参，则使用实参而忽略默认值\n",
    "\n",
    "\n",
    "- 函数名的命名建议使用小驼峰或posix法，不要用大驼峰，大驼峰只给类用\n",
    "\n",
    "# 函数的返回值\n",
    "\n",
    "- 执行过程函数：只为了执行过程，没有返回值\n",
    "- 具有返回值的函数：函数执行完，返回一个执行结果\n",
    "\n",
    "- 返回值\n",
    "    - 使用return关键字\n",
    "    - 如果没有return，默认返回一个None\n",
    "    - 函数一旦执行return语句，则无条件返回，即结束函数的执行\n",
    "    - return一般只能返回一个值，如果需要返回多个数据，可以将其组成序列类型，再返回\n",
    "    \n",
    "# lambda表达式\n",
    "\n",
    "- lambda表达式是一种简洁格式的函数。\n",
    "- lambda不是一种函数结构，只是一种表达式且不需要函数名（匿名函数）。\n",
    "- 格式：\n",
    "        \n",
    "        变量 = lambda 形参,形参...： 功能代码\n",
    "        lambda x,y :x+y \n",
    "        lambda x： 值1  if 条件表达式 else 值2\n",
    "\n",
    "- 优点：\n",
    "    - lambda表达式书写简单，不需要def关键字，不过需要lambda\n",
    "    - lambda表达式不需要函数名，省得命名头疼\n",
    "    - 看起来似乎很装逼的样子\n",
    "\n",
    "- 缺点：\n",
    "    - lambda表达式功能受限，无法使用循环以及部分流程控制相关语句 \n",
    "    - lambda表达式不适合较为复杂的程序"
   ]
  },
  {
   "cell_type": "code",
   "execution_count": 1,
   "metadata": {},
   "outputs": [
    {
     "name": "stdout",
     "output_type": "stream",
     "text": [
      "华氏温度：100\n",
      "摄氏温度：37.78\n",
      "开氏温度：310.93\n"
     ]
    }
   ],
   "source": [
    "# 华氏度转摄氏度、开氏度\n",
    "def f2c(f):\n",
    "    c = (f - 32)/1.8\n",
    "    k = (f - 32)*5/9 + 273.15\n",
    "    return c, k                         # 这是省略小括号的元组类型，等价于(c, k)\n",
    "    \n",
    "input_f = float(input('华氏温度：'))\n",
    "(m, n) = f2c(input_f )                  # 用一个元组(m, n)来接收返回值，也可以写作m, n\n",
    "print('摄氏温度：%5.2f\\n开氏温度：%5.2f' % (m, n))"
   ]
  },
  {
   "cell_type": "code",
   "execution_count": 2,
   "metadata": {},
   "outputs": [
    {
     "name": "stdout",
     "output_type": "stream",
     "text": [
      "华氏温度：100\n",
      "摄氏温度：37.78\n",
      "开氏温度：310.93\n"
     ]
    }
   ],
   "source": [
    "def f2c(f):\n",
    "    c = (f - 32)/1.8\n",
    "    k = (f - 32)*5/9+273.15\n",
    "    return [c, k]            # 一个列表\n",
    "    \n",
    "    \n",
    "input_f = float(input('华氏温度：'))\n",
    "list1 = f2c(input_f )        #用一个列表接收返回值\n",
    "\n",
    "print('摄氏温度：%5.2f\\n开氏温度：%5.2f' % (list1[0], list1[1]))"
   ]
  },
  {
   "cell_type": "markdown",
   "metadata": {},
   "source": [
    "# 参数\n",
    "\n",
    "## 参数分类\n",
    "\n",
    "- 普通参数（位置参数）\n",
    "- 默认参数\n",
    "- 关键字参数\n",
    "- 收集参数\n",
    "\n",
    "### 普通参数\n",
    "\n",
    "- 调用函数时根据函数定义的参数位置来传递参数，又称位置参数\n",
    "- 定义的时候直接定义变量名\n",
    "- 调用的时候直接把变量或者值放入指定位置\n",
    "\n",
    "            def 函数名（参数1， 参数2，....):\n",
    "                函数体\n",
    "\n",
    "            函数名（value1, value2,.......)\n",
    "\n",
    "\n",
    "### 默认参数\n",
    "\n",
    "- 形参带有默认值\n",
    "- 调用时如果不提供实参，则会使用形参的默认值执行，如果提供了实参，则使用实参而忽略默认值\n",
    "\n",
    "            def 函数名(形参名 = 默认值,形参名 = 默认值...):\n",
    "                函数体\n",
    "\n",
    "            函数名()               # 按默认值执行\n",
    "\n",
    "            value1 = 100\n",
    "            value2 = 200\n",
    "            函数名(value1,value2)  # 按实参值执行"
   ]
  },
  {
   "cell_type": "code",
   "execution_count": 8,
   "metadata": {},
   "outputs": [
    {
     "name": "stdout",
     "output_type": "stream",
     "text": [
      "ZhangSan is 25 years old, and he is a good boy\n",
      "ChenXiaoxiao is 23 years old, and she is a good girl\n"
     ]
    }
   ],
   "source": [
    "# 程序员默认一般都是男性，打印一个程序员的个人信息，不传性别，默认为男性\n",
    "def chengxuyuan(name, age, gender=\"male\"):\n",
    "    if gender == \"male\":\n",
    "        print(\"{0} is {1} years old, and he is a good boy\".format(name, age))\n",
    "    else:\n",
    "        print(\"{0} is {1} years old, and she is a good girl\".format(name, age))\n",
    "\n",
    "chengxuyuan(\"ZhangSan\", 25)\n",
    "\n",
    "chengxuyuan(\"ChenXiaoxiao\", 23, \"female\")"
   ]
  },
  {
   "cell_type": "markdown",
   "metadata": {},
   "source": [
    "### 关键字参数\n",
    "\n",
    "- 关键字参数可以避免参数传递错误。如果只按照位置传参，当参数太多的时候，容易出现参数传错位置的情况。\n",
    "    \n",
    "            def 函数名(形参名 = 默认值,形参名 = 默认值...):\n",
    "                函数体\n",
    "\n",
    "            函数名(形参名 = value1,形参名 = value2...)     # 与默认参数的区别在于，调用的时候按照形参对应地赋实参"
   ]
  },
  {
   "cell_type": "code",
   "execution_count": 42,
   "metadata": {},
   "outputs": [
    {
     "name": "stdout",
     "output_type": "stream",
     "text": [
      "我叫25，今年张三岁了，来自北京\n",
      "我叫张三，今年25岁了，来自北京\n"
     ]
    }
   ],
   "source": [
    "# 普通参数\n",
    "def stu(name, age, addr):\n",
    "    print(\"我叫{0}，今年{1}岁了，来自{2}\".format(name, age, addr))\n",
    "        \n",
    "stu(25, \"张三\", \"北京\")      # 普通参数，调用时只按照位置顺序传参，容易出错\n",
    "\n",
    "\n",
    "# 关键字参数\n",
    "def stu_key(name=\"No name\", age=0, addr=\"No addr\"):\n",
    "    print(\"我叫{0}，今年{1}岁了，来自{2}\".format(name, age, addr))\n",
    "        \n",
    "stu_key(age=25, name=\"张三\", addr=\"北京\")    # 关键字参数，调用的时候按照形参对应地赋实参，位置顺序不重要了"
   ]
  },
  {
   "cell_type": "markdown",
   "metadata": {},
   "source": [
    "### 收集参数\n",
    "\n",
    "- 定义一个函数，如果一开始设置了3个形参，调用这个函数时，需要传递10个实参，怎么办？或者说，定义函数时，不能确定将来调用时到底要传几个实参。\n",
    "- 这就用到了收集参数：设置函数形参时，用*args或者**kwargs代替不知个数的形参\n",
    "- 收集参数可以和其他参数一起设置\n",
    "\n",
    "\n",
    "- 格式1（用来收集非关键字参数）\n",
    "- 收集到的数据是由所有非关键字实参组成的元组类型tuple\n",
    "\n",
    "        def 函数名(*args):\n",
    "            函数体\n",
    "            for item in args:\n",
    "                pass\n",
    "            \n",
    "        函数名(value1, value2, ...)\n",
    " \n",
    "- 格式2（用来收集关键字参数）\n",
    "- 收集到的数据是由所有关键字实参组成的字典类型dict\n",
    "\n",
    "\n",
    "        def 函数名(**kwargs):\n",
    "            函数体\n",
    "            for i in kwargs.items():\n",
    "                pass\n",
    "            \n",
    "        函数名(形参名 = value1,形参名 = value2...)"
   ]
  },
  {
   "cell_type": "code",
   "execution_count": 81,
   "metadata": {},
   "outputs": [
    {
     "name": "stdout",
     "output_type": "stream",
     "text": [
      "姓名：张三\n",
      "技能： C C++ Python Java PHP \n",
      "姓名：李四\n",
      "技能： Python Java PHP "
     ]
    }
   ],
   "source": [
    "#收集参数——非关键字参数\n",
    "def stu(name, *args):\n",
    "    print('姓名：%s' % name)\n",
    "    print('技能：', end=\" \")\n",
    "    for item in args:               # args是tuple元组类型\n",
    "        print(item, end=\" \")\n",
    "\n",
    "stu('张三', 'C', 'C++', 'Python', 'Java', 'PHP')\n",
    "print()\n",
    "stu('李四', 'Python', 'Java', 'PHP')"
   ]
  },
  {
   "cell_type": "code",
   "execution_count": 88,
   "metadata": {},
   "outputs": [
    {
     "name": "stdout",
     "output_type": "stream",
     "text": [
      "技能：\n",
      "C -- 精通\n",
      "Python -- 熟练\n",
      "Java -- 了解\n",
      "PHP -- 了解\n",
      "\n",
      "技能：\n",
      "C -- 精通\n",
      "Python -- 熟练\n",
      "Java -- 了解\n",
      "PHP -- 了解\n",
      "JavaScript -- 了解\n"
     ]
    }
   ],
   "source": [
    "#收集参数——关键字参数\n",
    "def stu(**kwargs):\n",
    "    print('技能：')\n",
    "    for k, v in kwargs.items():       # kwargs是dict字典类型\n",
    "        print(k, '--',v)\n",
    "\n",
    "stu(C = '精通', Python = '熟练', Java = '了解', PHP = '了解')\n",
    "print()\n",
    "stu(C = '精通', Python = '精通', Java = '精通', PHP = '熟练', JavaScript= '了解')"
   ]
  },
  {
   "cell_type": "markdown",
   "metadata": {},
   "source": [
    "### 混合参数的顺序问题\n",
    "\n",
    "- 收集参数和其他参数一起混合设置形参，需要注意的问题：\n",
    "    - 普通参数、非关键字收集参数、关键字参数/默认参数、关键字收集参数。（一定要按照这个顺序）\n",
    "    - 收集参数只负责收集没有形参接收的实参，那些有形参接收的实参，收集参数不去管它们"
   ]
  },
  {
   "cell_type": "code",
   "execution_count": 135,
   "metadata": {},
   "outputs": [
    {
     "name": "stdout",
     "output_type": "stream",
     "text": [
      "姓名：张三  性别：男\n",
      "婚育情况：未婚\n",
      "--------------------\n",
      "\n",
      "--------------------\n",
      "专业技能：\n",
      "姓名：李四  性别：男\n",
      "婚育情况：已婚\n",
      "--------------------\n",
      "\n",
      "--------------------\n",
      "专业技能：\n",
      "姓名：陈小二  性别：女\n",
      "婚育情况：未婚\n",
      "--------------------\n",
      "四川大学 计算机学院 软件工程 \n",
      "--------------------\n",
      "专业技能：\n",
      "Python --- 精通\n",
      "Java --- 精通\n",
      "PHP --- 熟练\n",
      "JavaScript --- 了解\n"
     ]
    }
   ],
   "source": [
    "# 应届毕业生校招面试简历\n",
    "def stu(name, gender, *args, hunyu=\"未婚\", **kwargs):\n",
    "    print(\"姓名：{0}  性别：{1}\".format(name, gender))\n",
    "    if hunyu == \"未婚\":\n",
    "        print(\"婚育情况：未婚\")\n",
    "    else:\n",
    "        print(\"婚育情况：%s\" % hunyu)\n",
    "    print('-'*20)\n",
    "    for item in args:\n",
    "        print(item, end=\" \")\n",
    "    print() \n",
    "    print('-'*20)\n",
    "    print(\"专业技能：\")\n",
    "    for k,v in kwargs.items():\n",
    "        print(k, \"---\", v)\n",
    "        \n",
    "# 调用的不同格式\n",
    "stu('张三', '男')\n",
    "\n",
    "stu('李四', '男', hunyu=\"已婚\")\n",
    "\n",
    "stu('陈小二', '女', \"四川大学\", \"计算机学院\",\"软件工程\", Python = '精通', Java = '精通', PHP = '熟练', JavaScript= '了解')"
   ]
  },
  {
   "cell_type": "markdown",
   "metadata": {},
   "source": [
    "### 收集参数的解包问题\n",
    "\n",
    "- 把那些没有形参接收的实参，打包成一个list或dict\n",
    "- 注意调用传参时，传的是解包后的list或dict"
   ]
  },
  {
   "cell_type": "code",
   "execution_count": 145,
   "metadata": {},
   "outputs": [
    {
     "name": "stdout",
     "output_type": "stream",
     "text": [
      "张三\n",
      "男\n",
      "清华大学\n",
      "计算机学院\n"
     ]
    }
   ],
   "source": [
    "#list的解包\n",
    "\n",
    "def stu(*args):\n",
    "    for item in args:\n",
    "        print(item)\n",
    "\n",
    "L = ['张三', '男', '清华大学', '计算机学院']\n",
    "        \n",
    "stu(*L)"
   ]
  },
  {
   "cell_type": "code",
   "execution_count": 155,
   "metadata": {},
   "outputs": [
    {
     "name": "stdout",
     "output_type": "stream",
     "text": [
      "姓名 ： 张三\n",
      "性别 ： 男\n",
      "毕业院校 ： 清华大学\n",
      "学院 ： 计算机学院\n"
     ]
    }
   ],
   "source": [
    "#dict的解包\n",
    "\n",
    "def stu(**kwargs):\n",
    "    for k, v in kwargs.items():\n",
    "        print(k, '：', v)\n",
    "\n",
    "D = {'姓名':'张三', '性别':'男', '毕业院校':'清华大学', '学院':'计算机学院'}\n",
    "        \n",
    "stu(**D)"
   ]
  },
  {
   "cell_type": "markdown",
   "metadata": {},
   "source": [
    "# 函数文档\n",
    "\n",
    "- 函数文档是对当前函数提供的参考信息\n",
    "- 文档查看\n",
    "    - 使用help，形如 help(func)\n",
    "    - 使用doc，形如func__doc__\n",
    "- 文档的写法：\n",
    "    - 在函数内部开始的第一行使用三引号字符串定义符\n",
    "    - 一般具有特定格式\n",
    "    - 参看案例"
   ]
  },
  {
   "cell_type": "code",
   "execution_count": 169,
   "metadata": {},
   "outputs": [],
   "source": [
    "# 文档编写案例\n",
    "\n",
    "def stu(name, *args):\n",
    "    '''\n",
    "    此函数的作用是打印学生的姓名及其所掌握的专业技能\n",
    "    :param name: 表示学生的姓名\n",
    "    :param *args: 表示学生的技能\n",
    "    :return: 此函数没有返回值\n",
    "    '''\n",
    "    print('姓名：%s' % name)\n",
    "    print('技能：', end=\" \")\n",
    "    for item in args:               # args是tuple元组类型\n",
    "        print(item, end=\" \")"
   ]
  },
  {
   "cell_type": "code",
   "execution_count": 168,
   "metadata": {},
   "outputs": [
    {
     "name": "stdout",
     "output_type": "stream",
     "text": [
      "Help on function stu in module __main__:\n",
      "\n",
      "stu(name, *args)\n",
      "    此函数的作用是打印学生的姓名及其所掌握的专业技能\n",
      "    :param name: 表示学生的姓名\n",
      "    :param *args: 表示学生的技能\n",
      "    :return: 此函数没有返回值\n",
      "\n"
     ]
    },
    {
     "data": {
      "text/plain": [
       "'\\n    此函数的作用是打印学生的姓名及其所掌握的专业技能\\n    :param name: 表示学生的姓名\\n    :param *args: 表示学生的技能\\n    :return: 此函数没有返回值\\n    '"
      ]
     },
     "execution_count": 168,
     "metadata": {},
     "output_type": "execute_result"
    }
   ],
   "source": [
    "# 查看函数文档\n",
    "help(stu)\n",
    "stu.__doc__"
   ]
  },
  {
   "cell_type": "markdown",
   "metadata": {},
   "source": [
    "# 变量作用域\n",
    "\n",
    "- 在函数中声明变量的有效使用范围就是函数的变量作用域\n",
    "- 分类：按照作用域分类\n",
    "    - 全局(global): 在函数外部定义\n",
    "    - 局部（local)：在函数内部定义\n",
    "    \n",
    "    \n",
    "- 变量的作用范围：\n",
    "    - 全局变量：在整个全局范围都有效\n",
    "    - 全局变量在局部可以使用\n",
    "    - 局部变量在局部范围可以使用\n",
    "    - 局部变量在全局范围无法使用\n",
    "    \n",
    "    \n",
    "- 命名空间\n",
    "    - 命名空间是对变量名的分组划分\n",
    "         - 不同组的相同名称的变量可以视为两个独立的变量，因此隶属于不同分组（命名空间）的变量名可以重复\n",
    "         - 命名空间可以有多个，使用某个命名空间，表示在这个命名空间中查找当前变量名\n",
    "    - Python的命名空间是一个字典，字典内保存了变量名（字符串对象）与对象之间的映射关系，因此，查找变量名就是在命名空间字典中查找键-值对\n",
    "    - Python有多个命名空间，因此，需要有规则来规定，按照怎样的顺序来查找命名空间，LEGB就是用来规定命名空间查找顺序的规则\n",
    "    \n",
    "    \n",
    "- LEGB原则\n",
    "    - LEGB规定了查找一个名称的顺序为：local-->enclosing function locals-->global module-->builtin\n",
    "        - L（Local）函数内部（局部）作用域\n",
    "        - E（Enclosing function locals）外部嵌套函数作用域\n",
    "        - G（Global module）函数定义所在模块作用域\n",
    "        - B（Builtin）：python内置模块的作用域（Builtin是built in的意思）"
   ]
  },
  {
   "cell_type": "code",
   "execution_count": 178,
   "metadata": {},
   "outputs": [
    {
     "name": "stdout",
     "output_type": "stream",
     "text": [
      "Local 1\n",
      "Enclosing function locals 2\n",
      "Global module 3\n"
     ]
    }
   ],
   "source": [
    "x = 3 \n",
    "\n",
    "def func():\n",
    "    x = 2 \n",
    "    def innerfunc():\n",
    "        x = 1 \n",
    "        print ('Local', x)\n",
    "    innerfunc()\n",
    "    print ('Enclosing function locals', x)\n",
    "\n",
    "func()\n",
    "print ('Global module', x)"
   ]
  },
  {
   "cell_type": "markdown",
   "metadata": {},
   "source": [
    "- 从内到外的四个命名空间是：\n",
    "    - def innerfunc():：Local， 函数内部命名空间\n",
    "    - def func():：Enclosing function locals，外部嵌套函数的命名空间\n",
    "    - 文件本身：Global module，函数定义所在模块（本文件）的命名空间\n",
    "    - 还有Builtin，Python内置模块的命名空间"
   ]
  },
  {
   "cell_type": "code",
   "execution_count": 182,
   "metadata": {},
   "outputs": [
    {
     "name": "stdout",
     "output_type": "stream",
     "text": [
      "Local 2\n",
      "Enclosing function locals 2\n",
      "Global module 3\n"
     ]
    }
   ],
   "source": [
    "x = 3 \n",
    "\n",
    "def func():\n",
    "    x = 2 \n",
    "    def innerfunc():\n",
    "        # x = 1\n",
    "        print('Local', x)\n",
    "    innerfunc()\n",
    "    print('Enclosing function locals', x)\n",
    "\n",
    "func()\n",
    "print('Global module', x)"
   ]
  },
  {
   "cell_type": "markdown",
   "metadata": {},
   "source": [
    "- 分析：\n",
    "    - x = 1属于函数内部命名空间，被注释掉之后，函数innerfunc的print('Local', x)要使用x这个名称时，触发了名称查找动作\n",
    "    - 首先在Local函数内部命名空间查找，没有找到\n",
    "    - 然后到Enclosing function locals外部嵌套函数命名空间查找，查找到x = 2，然后调用，打印\n",
    "    - 如果把外部嵌套函数命名空间的x = 2也注释掉，可以推测，名称查找会到Global module去查找，彼时，打印的x = 3"
   ]
  },
  {
   "cell_type": "markdown",
   "metadata": {},
   "source": [
    "## global 提升局部变量为全局变量"
   ]
  },
  {
   "cell_type": "code",
   "execution_count": 70,
   "metadata": {},
   "outputs": [
    {
     "name": "stdout",
     "output_type": "stream",
     "text": [
      "Local 100\n",
      "Local 99\n",
      "Global module 100\n"
     ]
    },
    {
     "ename": "NameError",
     "evalue": "name 'y' is not defined",
     "output_type": "error",
     "traceback": [
      "\u001b[1;31m---------------------------------------------------------------------------\u001b[0m",
      "\u001b[1;31mNameError\u001b[0m                                 Traceback (most recent call last)",
      "\u001b[1;32m<ipython-input-70-d523c7f0cf08>\u001b[0m in \u001b[0;36m<module>\u001b[1;34m()\u001b[0m\n\u001b[0;32m      8\u001b[0m \u001b[0mfunc\u001b[0m\u001b[1;33m(\u001b[0m\u001b[1;33m)\u001b[0m                          \u001b[1;31m# 调用func()，完成了把x提升为全局变量、打印x、打印y的操作\u001b[0m\u001b[1;33m\u001b[0m\u001b[0m\n\u001b[0;32m      9\u001b[0m \u001b[0mprint\u001b[0m\u001b[1;33m(\u001b[0m\u001b[1;34m'Global module'\u001b[0m\u001b[1;33m,\u001b[0m\u001b[0mx\u001b[0m\u001b[1;33m)\u001b[0m        \u001b[1;31m# 此时的x是已经被提升为全局变量，可以打印\u001b[0m\u001b[1;33m\u001b[0m\u001b[0m\n\u001b[1;32m---> 10\u001b[1;33m \u001b[0mprint\u001b[0m\u001b[1;33m(\u001b[0m\u001b[0my\u001b[0m\u001b[1;33m)\u001b[0m                        \u001b[1;31m# y还是那个局部变量，在全局打印会提示 NameError: name 'y' is not defined\u001b[0m\u001b[1;33m\u001b[0m\u001b[0m\n\u001b[0m",
      "\u001b[1;31mNameError\u001b[0m: name 'y' is not defined"
     ]
    }
   ],
   "source": [
    "def func():\n",
    "    global x\n",
    "    x = 100\n",
    "    print('Local',x)\n",
    "    y = 99\n",
    "    print('Local',y)\n",
    "\n",
    "func()                          # 调用func()，完成了把x提升为全局变量、打印x、打印y的操作\n",
    "print('Global module',x)        # 此时的x是已经被提升为全局变量，可以打印\n",
    "print(y)                        # y还是那个局部变量，在全局打印会提示 NameError: name 'y' is not defined"
   ]
  },
  {
   "cell_type": "markdown",
   "metadata": {},
   "source": [
    "# 内置函数globals()和locals()\n",
    "\n",
    "- 通过两个内置函数，可以基于字典的方式，访问局部变量名字空间和全局变量的名字空间\n",
    "- locals()可以访问局部名字空间；globals()可以访问全局 (模块级别的) 名字空间\n",
    "- locals()实际上返回的是真正局部名字空间的拷贝，对它进行修改，修改的只是拷贝，对实际的局部名字空间没有影响\n",
    "- globals()返回的是实际的全局名字空间，对它进行修改，会直接影响到全局变量的取值"
   ]
  },
  {
   "cell_type": "code",
   "execution_count": 65,
   "metadata": {},
   "outputs": [
    {
     "name": "stdout",
     "output_type": "stream",
     "text": [
      "局部名字空间:\n",
      " {'k': 9, 'j': 1, 'i': 9, 'y': 'hello python!', 'x': 100, 'a': 2, 'arg': 1}\n"
     ]
    }
   ],
   "source": [
    "def foo(arg, a):  \n",
    "    x = 100 \n",
    "    y = 'hello python!'  \n",
    "    for i in range(10):  \n",
    "        j = 1  \n",
    "        k = i  \n",
    "    print ('局部名字空间:\\n', locals())     # 返回的是真正局部名字空间的一份拷贝，字典类型\n",
    "\n",
    "foo(1,2)\n",
    "#print('全局名字空间:\\n',globals())         # 返回的是真正全局名字空间，字典类型。\n",
    "                                           # 在jupyter里似乎会打印本页面所有的乱七八糟的东西，为了整洁起见，此处屏蔽。  "
   ]
  },
  {
   "cell_type": "code",
   "execution_count": 64,
   "metadata": {},
   "outputs": [
    {
     "name": "stdout",
     "output_type": "stream",
     "text": [
      "{'x': 100, 'arg': 2}\n",
      "{'x': 100, 'arg': 2}\n",
      "1\n",
      "0\n"
     ]
    }
   ],
   "source": [
    "a = 1\n",
    "def foo(arg):\n",
    "    x = 100\n",
    "    print (locals()) \n",
    "    locals()['x'] = 99      # 修改返回的字典里的键x的值（其实修改的是拷贝，没有用的）\n",
    "    print (locals())\n",
    "\n",
    "foo(2)\n",
    "#print(globals())\n",
    "print(a)                    # 1\n",
    "globals()['a'] = 0          # 修改返回的字典里的键a的值，全局名字空间被修改，a的值改变了\n",
    "print(a)                    # 0\n",
    "#print(globals())"
   ]
  },
  {
   "cell_type": "markdown",
   "metadata": {},
   "source": [
    "# eval()函数\n",
    "\n",
    "- 把一个字符串当成一个表达式来执行，返回表达式执行后的结果\n",
    "- 语法： \n",
    "    \n",
    "        eval(string_code, globals=None, locals=None)\n",
    "            \n",
    "\n",
    "# exec()函数\n",
    "\n",
    "- 执行字符串， 但是不返回结果\n",
    "- 语法：\n",
    "\n",
    "        exec(string_code, globals=None, locals=None)"
   ]
  },
  {
   "cell_type": "code",
   "execution_count": 2,
   "metadata": {},
   "outputs": [
    {
     "name": "stdout",
     "output_type": "stream",
     "text": [
      "300\n",
      "None\n",
      "300\n"
     ]
    }
   ],
   "source": [
    "x = 100\n",
    "y = 200\n",
    "z1 = eval(\"x+y\")\n",
    "z2 = exec(\"x+y\")\n",
    "exec(\"z3 = x+y\")\n",
    "print(z1)\n",
    "print(z2)\n",
    "print(z3)"
   ]
  },
  {
   "cell_type": "markdown",
   "metadata": {},
   "source": [
    "# 递归函数\n",
    "\n",
    "- 函数直接或者间接调用自身\n",
    "- 优点：简洁，理解容易\n",
    "- 缺点：对递归深度有限制，消耗资源大\n",
    "- python对递归深度有限制，超过限制报错\n",
    "- 在写递归程序的时候，一定注意结束条件，防止栈溢出"
   ]
  },
  {
   "cell_type": "code",
   "execution_count": 20,
   "metadata": {},
   "outputs": [
    {
     "name": "stdout",
     "output_type": "stream",
     "text": [
      "请输入需要打印的斐波那契数列项数：10\n",
      "第1 项：1\n",
      "第2 项：1\n",
      "第3 项：2\n",
      "第4 项：3\n",
      "第5 项：5\n",
      "第6 项：8\n",
      "第7 项：13\n",
      "第8 项：21\n",
      "第9 项：34\n",
      "第10项：55\n"
     ]
    }
   ],
   "source": [
    "# 斐波那契数列\n",
    "\n",
    "def fibo(n):\n",
    "    if n == 1 or n == 2:\n",
    "        return 1\n",
    "    else:\n",
    "        return fibo(n-2) + fibo(n-1)\n",
    "\n",
    "n = int(input(\"请输入需要打印的斐波那契数列项数：\"))\n",
    "for i in range(1, n+1):\n",
    "    print('第%-2d项：%d' % (i, fibo(i)))"
   ]
  },
  {
   "cell_type": "markdown",
   "metadata": {},
   "source": [
    "## 用递归函数解决汉诺塔移动问题\n",
    "\n",
    "- 汉诺塔问题：\n",
    "    - 总共更有三个柱子，在第一根柱子上，从下往上按从大到小的顺序叠放着一堆盘子，下面大盘子上面小盘子；\n",
    "　　- 每次只能移动一个盘子，且大盘子不能放在小盘子上面，即保证每根柱子上的盘子都是下大上小；\n",
    "　　- 最终目标是把盘子从左边第一根柱子，移动到右边第三个柱子。\n",
    "  \n",
    "  \n",
    "- 利用递归函数解决汉诺塔移动：\n",
    "    - 假定有n个盘子，从左到右依次有a，b，c三个柱子。刚开始n个盘子都在a柱子上。\n",
    "    - 若n=1，直接把盘子从a移动到c；\n",
    "    - 若n>1，则：\n",
    "        - 第一步：把a柱子上除最下面的那个盘子外的n-1个盘子，全部移动到b柱子上；\n",
    "        - 第二步：把a柱子上最下面的那个盘子，移动到c柱子上；\n",
    "        - 第三步：把b柱子上的n-1个盘子，全部移动到c柱子上；"
   ]
  },
  {
   "cell_type": "code",
   "execution_count": 41,
   "metadata": {},
   "outputs": [
    {
     "name": "stdout",
     "output_type": "stream",
     "text": [
      "A --> C\n",
      "A --> B\n",
      "C --> B\n",
      "A --> C\n",
      "B --> A\n",
      "B --> C\n",
      "A --> C\n"
     ]
    }
   ],
   "source": [
    "def move(n,a,b,c):\n",
    "    if n==1:\n",
    "        print(a, '-->', c)      # 1个盘子，那就直接把盘子从a移动到c\n",
    "    else:\n",
    "        move(n-1,a,c,b)        # 先把a上面的n-1个盘子移动到b\n",
    "        move(1,a,b,c)          # 再把a最下面的那个大盘子移动到c\n",
    "        move(n-1,b,a,c)        # 最后把b的n-1个盘子移动到c\n",
    "\n",
    "move(3,'A','B','C')"
   ]
  }
 ],
 "metadata": {
  "kernelspec": {
   "display_name": "Python 3",
   "language": "python",
   "name": "python3"
  },
  "language_info": {
   "codemirror_mode": {
    "name": "ipython",
    "version": 3
   },
   "file_extension": ".py",
   "mimetype": "text/x-python",
   "name": "python",
   "nbconvert_exporter": "python",
   "pygments_lexer": "ipython3",
   "version": "3.6.5"
  }
 },
 "nbformat": 4,
 "nbformat_minor": 2
}
