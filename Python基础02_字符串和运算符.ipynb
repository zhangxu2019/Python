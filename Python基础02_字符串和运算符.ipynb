{
 "cells": [
  {
   "cell_type": "markdown",
   "metadata": {},
   "source": [
    "# 关于字符串\n",
    "\n",
    "## 转义字符\n",
    "\n",
    "- 用一个特殊的方法表示出一系列不方便写出的内容，比如回车键，换行键，退格键\n",
    "- 不同系统对换行操作有不同的表示，比如换行符\n",
    "    - windows： \\n\n",
    "    - Linux: \\r\\n"
   ]
  },
  {
   "cell_type": "code",
   "execution_count": 8,
   "metadata": {},
   "outputs": [
    {
     "name": "stdout",
     "output_type": "stream",
     "text": [
      "Let's go\n",
      "Let's go\n",
      "c:\\user\n",
      "I love you \n",
      " --Python\n"
     ]
    }
   ],
   "source": [
    "# 要表示出Let‘s go\n",
    "s1 = \"Let's go\"      # 使用嵌套引号，即外层使用双引号\n",
    "print(s1)\n",
    "\n",
    "#\\' == '\n",
    "s2 = 'Let\\'s go'    # 转义字符，用\\' 表示 '\n",
    "print(s2)\n",
    "\n",
    "# 要表示c:\\\\user\n",
    "s3 = \"c:\\\\user\"    # 用\\\\ 表示 \\\n",
    "print(s3)\n",
    "\n",
    "s = \"I love you \\n --Python\"# windows下，用\\n表示回车换行符\n",
    "print(s)"
   ]
  },
  {
   "cell_type": "markdown",
   "metadata": {},
   "source": [
    "## 字符串的格式化\n",
    "\n",
    "- 把字符串按照一定格式打印或者填充\n",
    "- 格式化由两种方法\n",
    "    - 利用百分号（%）\n",
    "    - 利用format函数\n",
    "    \n",
    "### 利用百分号格式化\n",
    "\n",
    "- 在字符串中，利用%表示一个特殊的含义，表示对字符进行格式化\n",
    "- %d: 此处应该放入一个整数\n",
    "- %f：此处应该放入一个浮点数\n",
    "- %s: 表示此处应该放入一个字符串\n",
    "\n",
    "### format函数格式化字符串\n",
    "\n",
    "- 直接用format()函数进行格式化\n",
    "- 在使用上，以{}和.format()带参数完成\n",
    "- 推荐使用这种方法"
   ]
  },
  {
   "cell_type": "code",
   "execution_count": 11,
   "metadata": {},
   "outputs": [
    {
     "name": "stdout",
     "output_type": "stream",
     "text": [
      "My name is zhangxu, I'm 18 years old.\n"
     ]
    }
   ],
   "source": [
    "print(\"My name is %s, I'm %d years old.\" % ('zhangxu', 18))"
   ]
  },
  {
   "cell_type": "code",
   "execution_count": 17,
   "metadata": {},
   "outputs": [
    {
     "name": "stdout",
     "output_type": "stream",
     "text": [
      "My name is zhangxu, I'm 18 years old.\n",
      "My name is zhangxu, I'm 18 years old, and you are 18 years old too.\n"
     ]
    }
   ],
   "source": [
    "print(\"My name is {}, I'm {} years old.\" .format('zhangxu', 18))\n",
    "print(\"My name is {0}, I'm {1} years old, and you are {1} years old too.\" .format('zhangxu', 18))  #大括号内编号，format()按0,1,2,3的顺序填充"
   ]
  },
  {
   "cell_type": "markdown",
   "metadata": {},
   "source": [
    "## None\n",
    "\n",
    "- 表示什么都没有\n",
    "- 如果函数没有返回值，可以返回None\n",
    "- 用来占位\n",
    "- 用来解除函数变量绑定"
   ]
  },
  {
   "cell_type": "markdown",
   "metadata": {},
   "source": [
    "# 表达式\n",
    "\n",
    "- 由一个或者几个数字或者变量和运算符组合成的一行代码\n",
    "- 通常会返回一个结果\n",
    "\n",
    "# 运算符\n",
    "\n",
    "- 用于运算的符号叫运算符\n",
    "- 运算符分类：\n",
    "    - 1.算数运算符\n",
    "    - 2.比较运算符/关系运算符\n",
    "    - 3.赋值运算符\n",
    "    - 4.逻辑运算符\n",
    "    - 5.位运算符\n",
    "    - 6.成员运算符\n",
    "    - 7.身份运算符\n",
    "\n",
    "## 算数运算符\n",
    "\n",
    "- 进行算数运算的符号\n",
    "- 注意：python中没有自增自减的 ++ 或者-- 运算\n",
    "\n",
    "    - 加法运算 +\n",
    "    - 减法运算 -\n",
    "    - 乘法运算 *\n",
    "    - 除法运算 /  \n",
    "    - 取余运算 %  \n",
    "    - 取商运算（地板除） // \n",
    "    - 幂运算 **   \n",
    "    \n",
    "## 比较运算\n",
    "\n",
    "- 对两个变量或者值进行比较的运算符\n",
    "- 注意：比较运算的结果是一定布尔值，即True/False\n",
    "- 注意：在python中没有 === 和 ！== 运算，只要类型不同就是不等于\n",
    "    - 等于 ==\n",
    "    - 不等于 != \n",
    "    - 大于 >\n",
    "    - 小于 <\n",
    "    - 大于等于 >=\n",
    "    - 小于等于 <="
   ]
  },
  {
   "cell_type": "code",
   "execution_count": 20,
   "metadata": {},
   "outputs": [
    {
     "name": "stdout",
     "output_type": "stream",
     "text": [
      "False\n",
      "True\n"
     ]
    }
   ],
   "source": [
    "# 下面语句执行书序是\n",
    "# 先计算 a == 80\n",
    "# 然后把结果放入b中\n",
    "b = a == 80\n",
    "print(b)\n",
    "\n",
    "# != 不等于\n",
    "print( 9 != 8 )"
   ]
  },
  {
   "cell_type": "markdown",
   "metadata": {},
   "source": [
    "## 赋值运算\n",
    "\n",
    "- 没什么好讲的\n",
    "    - 普通赋值 =\n",
    "    - 加法赋值 +=\n",
    "    - 减法赋值 -=\n",
    "    - 乘法赋值 *=\n",
    "    - 除法赋值 /=\n",
    "    - 取余赋值 %=\n",
    "    - 取商赋值 //=\n",
    "    - 幂赋值   **=\n",
    "\n",
    "## 逻辑运算\n",
    "\n",
    "- 逻辑运算是布尔值之间的运算\n",
    "- python中，逻辑运算没有异或运算\n",
    "    - 与 and\n",
    "    - 或 or\n",
    "    - 非 not\n",
    "- 运算规则：\n",
    "    - True看作1， False看作0\n",
    "    - and看作乘法， or看加法\n",
    "    - 最后结果如果是0则为False， 是1则为True\n",
    "- 这样，逻辑运算就变成了1和0的数学运算\n",
    "- 注意逻辑运算的短路问题\n",
    "    - 逻辑运算式，按照运算顺序计算，一旦能够确定整个式子未来的值，则不再进行计算，直接返回\n",
    "\n",
    "    \n"
   ]
  },
  {
   "cell_type": "code",
   "execution_count": 25,
   "metadata": {},
   "outputs": [
    {
     "name": "stdout",
     "output_type": "stream",
     "text": [
      "True\n",
      "True\n"
     ]
    }
   ],
   "source": [
    "# 逻辑运算符案例\n",
    "a = True\n",
    "b = False\n",
    "c = True\n",
    "\n",
    "d = a and b or c    # 等价于 d = 1 * 0 + 1\n",
    "print(d)\n",
    "\n",
    "e = a or b and c    # 等价于 d = 1 + 0 * 1\n",
    "print(e)"
   ]
  },
  {
   "cell_type": "code",
   "execution_count": 30,
   "metadata": {},
   "outputs": [
    {
     "ename": "SyntaxError",
     "evalue": "invalid syntax (<ipython-input-30-10742851c34c>, line 8)",
     "output_type": "error",
     "traceback": [
      "\u001b[1;36m  File \u001b[1;32m\"<ipython-input-30-10742851c34c>\"\u001b[1;36m, line \u001b[1;32m8\u001b[0m\n\u001b[1;33m    a = True or (b=9) and 6\u001b[0m\n\u001b[1;37m                  ^\u001b[0m\n\u001b[1;31mSyntaxError\u001b[0m\u001b[1;31m:\u001b[0m invalid syntax\n"
     ]
    }
   ],
   "source": [
    "# 逻辑运算的短路案例\n",
    "\n",
    "a = True or xxxxxxxxxxx        # 由于True or 就决定了a一定是True，后面的xxxxxxxxxxx就不再运算了 \n",
    "                                # 如果xxxxxxxxxxx中包含了什么赋值表达式，则赋值不会起作用\n",
    "\n",
    "# 代码示例（伪代码)\n",
    "b = 0\n",
    "a = True or (b=9) and 6\n",
    "# 假定上面这个表达式没有语法错误，则b最终的值应该是0而不是9"
   ]
  },
  {
   "cell_type": "markdown",
   "metadata": {},
   "source": [
    "\n",
    "## 位运算\n",
    "\n",
    "- 位运算就是在二进制基础上进行的逻辑运算，将0视为False，将1视为True进行的运算\n",
    "    - 位与 &\n",
    "    - 位或 |\n",
    "    - 位非 ～\n",
    "    - 位抑或 ^\n",
    "    - 左移 <<\n",
    "    - 右移 >>"
   ]
  },
  {
   "cell_type": "markdown",
   "metadata": {},
   "source": [
    "## 成员运算\n",
    "\n",
    "- in 检测一个值在指定的序列类型里面\n",
    "- not in 检测一个值是否不再指定的序列里面\n",
    "- 结果是布尔值，True/False"
   ]
  },
  {
   "cell_type": "code",
   "execution_count": 33,
   "metadata": {},
   "outputs": [
    {
     "name": "stdout",
     "output_type": "stream",
     "text": [
      "True\n",
      "False\n",
      "False\n",
      "True\n"
     ]
    }
   ],
   "source": [
    "list1 = [1,2,3,4,5]\n",
    "a = 1\n",
    "b = 100\n",
    "\n",
    "print(a in list1)\n",
    "print(b in list1)\n",
    "\n",
    "print(a not in list1)\n",
    "print(b not in list1)"
   ]
  },
  {
   "cell_type": "markdown",
   "metadata": {},
   "source": [
    "## 身份运算\n",
    "\n",
    "- is 检测值1是不是和值2在内存中是否是同一个值\n",
    "- is not 检测值1是不是和值2在内存中是否不是同一个值\n",
    "- 结果是布尔值，True/False\n",
    "- 需要说明的几点：\n",
    "    - is 判断的是内存地址是否相等，==判断的是值是否相等\n",
    "    - id()返回对象的内存地址，is就是基于id()实现的\n",
    "    - 为了提高内存利用效率，对于一些简单的对象，python采取重用对象内存的办法，如a=2，b=2时，由于2是数值小、简单的int类型对象，python只分配一次内存，然后将a与b同时指向已分配的内存；而如果对象数值大或者复杂的类型，则会一一分配内存。\n",
    "\n"
   ]
  },
  {
   "cell_type": "code",
   "execution_count": 49,
   "metadata": {},
   "outputs": [
    {
     "name": "stdout",
     "output_type": "stream",
     "text": [
      "1875930464\n",
      "1875930464\n",
      "True\n",
      "False\n",
      "\n",
      "74366144\n",
      "74366768\n",
      "False\n",
      "True\n",
      "\n",
      "83113744\n",
      "83114736\n",
      "False\n",
      "True\n",
      "\n",
      "32067632\n",
      "32067632\n",
      "True\n",
      "False\n",
      "\n",
      "81043368\n",
      "81359832\n",
      "False\n",
      "True\n"
     ]
    }
   ],
   "source": [
    "a = 10\n",
    "b = 10\n",
    "print(id(a))\n",
    "print(id(b))\n",
    "print( a is b)\n",
    "print( a is not b)\n",
    "\n",
    "print()\n",
    "\n",
    "a = 10.0\n",
    "b = 10.0\n",
    "print(id(a))\n",
    "print(id(b))\n",
    "print( a is b)\n",
    "print( a is not b)\n",
    "\n",
    "print()\n",
    "\n",
    "a = 1000000\n",
    "b = 1000000\n",
    "print(id(a))\n",
    "print(id(b))\n",
    "print( a is b)\n",
    "print( a is not b)\n",
    "\n",
    "print()\n",
    "\n",
    "a = \"I\"\n",
    "b = \"I\"\n",
    "print(id(a))\n",
    "print(id(b))\n",
    "print( a is b)\n",
    "print( a is not b)\n",
    "\n",
    "print()\n",
    "\n",
    "a = \"I love wangxiaojing\"\n",
    "b = \"I love wangxiaojing\"\n",
    "print( id(a))\n",
    "print( id(b))\n",
    "print( a is b)\n",
    "print( a is not b)\n"
   ]
  },
  {
   "cell_type": "markdown",
   "metadata": {},
   "source": [
    "## 运算符的优先级问题\n",
    "- 括号具有最高优先级\n",
    "- 优先级表格\n",
    "\n",
    "        **          指数 (最高优先级)\n",
    "        ~ + -       按位翻转, 一元加号和减号 (最后两个的方法名为 +@ 和 -@)\n",
    "        * / % //    乘，除，取模和取整除\n",
    "        + -         加法减法\n",
    "        >> <<       右移，左移运算符\n",
    "        &           位与\n",
    "        ^ |         位运算符\n",
    "        <= < > >=   比较运算符\n",
    "        <> == !=    等于运算符\n",
    "        = %= /= //= -= += *= **=    赋值运算符\n",
    "        is is not   身份运算符\n",
    "        in not in   成员运算符\n",
    "        not or and  逻辑运算符"
   ]
  }
 ],
 "metadata": {
  "kernelspec": {
   "display_name": "Python 3",
   "language": "python",
   "name": "python3"
  },
  "language_info": {
   "codemirror_mode": {
    "name": "ipython",
    "version": 3
   },
   "file_extension": ".py",
   "mimetype": "text/x-python",
   "name": "python",
   "nbconvert_exporter": "python",
   "pygments_lexer": "ipython3",
   "version": "3.6.5"
  }
 },
 "nbformat": 4,
 "nbformat_minor": 2
}
