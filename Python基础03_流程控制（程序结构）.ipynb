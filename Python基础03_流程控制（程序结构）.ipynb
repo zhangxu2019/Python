{
 "cells": [
  {
   "cell_type": "markdown",
   "metadata": {},
   "source": [
    "# 流程控制（流控）\n",
    "\n",
    "- 顺序结构\n",
    "- 分支结构\n",
    "- 循环结构\n",
    "\n",
    "## 顺序结构\n",
    "\n",
    "- 顺序结构就是程序自上而下的执行结构，该结构是语言的默认结构\n",
    "\n",
    "## 分支结构\n",
    "\n",
    "- 分支结构一共分为4大类：\n",
    "    - 单项分支\n",
    "    - 双项分支\n",
    "    - 多项分支\n",
    "    - 巢状分支\n",
    "\n",
    "### 单项分支\n",
    "\n",
    "- 格式：\n",
    "      if 条件表达式：\n",
    "          python代码...\n",
    "          python代码...\n",
    "          python代码...\n",
    "          ...\n",
    "          \n",
    "### 双项分支\n",
    "\n",
    "- 格式：\n",
    "      if 条件表达式:\n",
    "          python代码...\n",
    "          python代码...\n",
    "          python代码...\n",
    "          ...\n",
    "      else:\n",
    "          python代码...\n",
    "          python代码...\n",
    "          python代码...\n",
    "          ...\n",
    "\n",
    "### 多项分支\n",
    "\n",
    "- 格式：\n",
    "      if 条件表达式:\n",
    "          python代码...\n",
    "          python代码...\n",
    "          python代码...\n",
    "          ...\n",
    "      elif 条件表达式:\n",
    "          python代码...\n",
    "          python代码...\n",
    "          python代码...\n",
    "          ...\n",
    "      elif 条件表达式:\n",
    "          python代码...\n",
    "          python代码...\n",
    "          python代码...\n",
    "          ...\n",
    "      ...\n",
    "      else:\n",
    "          python代码...\n",
    "          python代码...\n",
    "          python代码...\n",
    "          ...\n",
    "\n",
    "### 巢状分支（嵌套）\n",
    "\n",
    "- 巢状分支就是多个其他if...else分支的嵌套组合而已。\n",
    "- 既可以在if区间嵌套，也可以在else区间嵌套或者elif区间嵌套\n",
    "- 例如：\n",
    "      if x < 5:\n",
    "        print('x真的小于5哦')\n",
    "        if y < 6:\n",
    "            print('如果y < 6，我会被输出')\n",
    "        elif y > 6:\n",
    "            print('如果上y大于6，我会被输出')\n",
    "      elif x > 5:\n",
    "        print('x大于5')\n",
    "        \n",
    "### 注意\n",
    "\n",
    "- if语句可以嵌套使用，但不推荐\n",
    "- 在python中，没有switch...case分支，可以使用字典和函数的组合来代替。\n",
    "\n",
    "## 循环语句\n",
    "\n",
    "- 重复执行某些固定动作或者处理基本固定的事物\n",
    "- 分类\n",
    "    - for循环\n",
    "    - while循环\n",
    "    \n",
    "### for循环\n",
    "\n",
    "- for循环\n",
    "    \n",
    "        for 变量 in 序列：\n",
    "            语句1\n",
    "            语句2\n",
    "            ...\n",
    "- 在python中，如果循环变量名称不重要，可以用下划线_代替       "
   ]
  },
  {
   "cell_type": "code",
   "execution_count": 76,
   "metadata": {},
   "outputs": [
    {
     "name": "stdout",
     "output_type": "stream",
     "text": [
      "张三不是凶手。\n",
      "李四不是凶手。\n",
      "王五不是凶手。\n",
      "二麻子不是凶手。\n",
      "真相只有一个，凶手就是：陈小二。\n"
     ]
    }
   ],
   "source": [
    "list1 = ['张三', '李四', '王五', '二麻子', '陈小二', ]\n",
    "for name in  list1:\n",
    "    if name == \"陈小二\":\n",
    "        print(\"真相只有一个，凶手就是：{}。\".format(name))\n",
    "    else:\n",
    "        print(\"{}不是凶手。\".format(name))"
   ]
  },
  {
   "cell_type": "markdown",
   "metadata": {},
   "source": [
    "### range\n",
    "\n",
    "- 生成一个数字序列\n",
    "- 具体范围可以设定\n",
    "- 左闭右开\n",
    "- 注意：\n",
    "    - 在python中，如果由表示数字范围的两个数，一般是左闭右开\n",
    "    - randint是特例，左右都包含\n",
    "    - range函数在python2 和 python3中有严重区别"
   ]
  },
  {
   "cell_type": "code",
   "execution_count": 92,
   "metadata": {},
   "outputs": [
    {
     "name": "stdout",
     "output_type": "stream",
     "text": [
      "1 2 3 4 5 6 7 8 9 10 "
     ]
    }
   ],
   "source": [
    "for i in range(1, 11):\n",
    "    print(i, end=\" \")"
   ]
  },
  {
   "cell_type": "code",
   "execution_count": 144,
   "metadata": {},
   "outputs": [
    {
     "name": "stdout",
     "output_type": "stream",
     "text": [
      "8\n"
     ]
    }
   ],
   "source": [
    "import numpy as np\n",
    "print(np.random.randint(1, 10))"
   ]
  },
  {
   "cell_type": "code",
   "execution_count": 145,
   "metadata": {},
   "outputs": [
    {
     "name": "stdout",
     "output_type": "stream",
     "text": [
      "1*1=1  1*2=2  1*3=3  1*4=4  1*5=5  1*6=6  1*7=7  1*8=8  1*9=9  \n",
      "2*1=2  2*2=4  2*3=6  2*4=8  2*5=10 2*6=12 2*7=14 2*8=16 2*9=18 \n",
      "3*1=3  3*2=6  3*3=9  3*4=12 3*5=15 3*6=18 3*7=21 3*8=24 3*9=27 \n",
      "4*1=4  4*2=8  4*3=12 4*4=16 4*5=20 4*6=24 4*7=28 4*8=32 4*9=36 \n",
      "5*1=5  5*2=10 5*3=15 5*4=20 5*5=25 5*6=30 5*7=35 5*8=40 5*9=45 \n",
      "6*1=6  6*2=12 6*3=18 6*4=24 6*5=30 6*6=36 6*7=42 6*8=48 6*9=54 \n",
      "7*1=7  7*2=14 7*3=21 7*4=28 7*5=35 7*6=42 7*7=49 7*8=56 7*9=63 \n",
      "8*1=8  8*2=16 8*3=24 8*4=32 8*5=40 8*6=48 8*7=56 8*8=64 8*9=72 \n",
      "9*1=9  9*2=18 9*3=27 9*4=36 9*5=45 9*6=54 9*7=63 9*8=72 9*9=81 \n"
     ]
    }
   ],
   "source": [
    "# 九九乘法表\n",
    "for i in range(1, 10):\n",
    "    for j in range(1, 10):\n",
    "        value = i * j\n",
    "        print(\"%d*%d=%-2d\" % (i, j, value), end=\" \")\n",
    "    print()"
   ]
  },
  {
   "cell_type": "markdown",
   "metadata": {},
   "source": [
    "### for-else语句\n",
    "\n",
    "-  当for循环结束的时候，会执行else语句\n",
    "- else语句是可选语句"
   ]
  },
  {
   "cell_type": "code",
   "execution_count": 77,
   "metadata": {},
   "outputs": [
    {
     "name": "stdout",
     "output_type": "stream",
     "text": [
      "张三不是凶手。\n",
      "李四不是凶手。\n",
      "王五不是凶手。\n",
      "二麻子不是凶手。\n",
      "真相只有一个，凶手就是：陈小二。\n",
      "天网恢恢，疏而不漏！\n"
     ]
    }
   ],
   "source": [
    "list1 = ['张三', '李四', '王五', '二麻子', '陈小二', ]\n",
    "for name in  list1:\n",
    "    if name == \"陈小二\":\n",
    "        print(\"真相只有一个，凶手就是：{}。\".format(name))\n",
    "    else:\n",
    "        print(\"{}不是凶手。\".format(name))\n",
    "else:\n",
    "    print(\"天网恢恢，疏而不漏！\")"
   ]
  },
  {
   "cell_type": "markdown",
   "metadata": {},
   "source": [
    "### while循环\n",
    "\n",
    "- 不知道具体循环次数，但能确定循环的成立条件的时候用while循环\n",
    "\n",
    "- 格式1\n",
    "        while 条件表达式:\n",
    "            语句1\n",
    "            语句2\n",
    "            ...\n",
    "- 格式2\n",
    "        while 条件表达式:\n",
    "            语句1\n",
    "            语句2\n",
    "            ...\n",
    "        else:\n",
    "            语句1\n",
    "            语句2\n",
    "            ...\n",
    "- while死循环\n",
    "        while True:\n",
    "            语句1\n",
    "            语句2\n",
    "            ..."
   ]
  },
  {
   "cell_type": "code",
   "execution_count": 75,
   "metadata": {},
   "outputs": [
    {
     "name": "stdout",
     "output_type": "stream",
     "text": [
      "第1年的本息总计106700.0元。\n",
      "第2年的本息总计113848.9元。\n",
      "第3年的本息总计121476.77629999998元。\n",
      "第4年的本息总计129615.72031209998元。\n",
      "第5年的本息总计138299.97357301068元。\n",
      "第6年的本息总计147566.07180240238元。\n",
      "第7年的本息总计157452.99861316333元。\n",
      "第8年的本息总计168002.34952024528元。\n",
      "第9年的本息总计179258.5069381017元。\n",
      "第10年的本息总计191268.8269029545元。\n",
      "第11年的本息总计204083.83830545243元。\n",
      "第11年实现了本息总额翻倍。\n"
     ]
    }
   ],
   "source": [
    "# 如果说年利率是6.7%，本利是每年翻滚，则多少年后本息总额会翻倍\n",
    "\n",
    "a = 100000\n",
    "year = 0\n",
    "while a < 200000:\n",
    "    a = a * (1+0.067)\n",
    "    year += 1\n",
    "    print(\"第{0}年的本息总计{1}元。\".format(year, a))\n",
    "else:\n",
    "    print(\"第{}年实现了本息总额翻倍。\".format(year))"
   ]
  },
  {
   "cell_type": "markdown",
   "metadata": {},
   "source": [
    "### 其他流程控制语句\n",
    "\n",
    "- 1) break 打破\n",
    "    - 作用：无条件结束整个循环，当前break所在的循环立刻终止。\n",
    "\n",
    "- 2) continue 继续\n",
    "    - 作用：无条件结束本次循环，重新开始下一次的循环。\n",
    "\n",
    "- 3) pass 略过\n",
    "    - 作用：在程序结构中有时不需用写任何python内容，但是如果没有内容，语言结构会出现语法错误，pass可以作为语法占位符使用，pass语句没有任何意义，也不会做任何操作。"
   ]
  },
  {
   "cell_type": "code",
   "execution_count": 81,
   "metadata": {},
   "outputs": [
    {
     "name": "stdout",
     "output_type": "stream",
     "text": [
      "1\n",
      "2\n",
      "3\n",
      "4\n",
      "5\n",
      "6\n",
      "找到了\n"
     ]
    }
   ],
   "source": [
    "# 在数字1-10中，寻找数字7，一旦找到，打印出来，然后break掉整个循环。\n",
    "\n",
    "for i in range(1,11):\n",
    "    if i == 7:\n",
    "        print(\"找到了\")\n",
    "        break\n",
    "    else:\n",
    "        print(i)\n",
    "    "
   ]
  },
  {
   "cell_type": "code",
   "execution_count": 83,
   "metadata": {},
   "outputs": [
    {
     "name": "stdout",
     "output_type": "stream",
     "text": [
      "1\n",
      "2\n",
      "3\n",
      "4\n",
      "5\n",
      "6\n",
      "找到了\n",
      "8\n",
      "9\n",
      "10\n"
     ]
    }
   ],
   "source": [
    "# 在数字1-10中，寻找数字7，一旦找到，打印出来，然后continue本次循环。\n",
    "\n",
    "for i in range(1,11):\n",
    "    if i == 7:\n",
    "        print(\"找到了\")\n",
    "        continue\n",
    "    else:\n",
    "        print(i)"
   ]
  },
  {
   "cell_type": "code",
   "execution_count": 91,
   "metadata": {},
   "outputs": [
    {
     "name": "stdout",
     "output_type": "stream",
     "text": [
      "哈哈\n"
     ]
    }
   ],
   "source": [
    "# pass一般用于占位，表示这里应该有语句，至于是什么，还没有想好，先占着什么也不干。注意，pass没有跳过功能\n",
    "\n",
    "for i in range(0,5):\n",
    "    pass\n",
    "print(\"哈哈\")"
   ]
  }
 ],
 "metadata": {
  "kernelspec": {
   "display_name": "Python 3",
   "language": "python",
   "name": "python3"
  },
  "language_info": {
   "codemirror_mode": {
    "name": "ipython",
    "version": 3
   },
   "file_extension": ".py",
   "mimetype": "text/x-python",
   "name": "python",
   "nbconvert_exporter": "python",
   "pygments_lexer": "ipython3",
   "version": "3.6.5"
  }
 },
 "nbformat": 4,
 "nbformat_minor": 2
}
